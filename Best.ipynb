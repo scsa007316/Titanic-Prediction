{
 "cells": [
  {
   "cell_type": "code",
   "execution_count": 1,
   "id": "e802a43a",
   "metadata": {
    "execution": {
     "iopub.execute_input": "2022-09-08T10:02:49.136334Z",
     "iopub.status.busy": "2022-09-08T10:02:49.135793Z",
     "iopub.status.idle": "2022-09-08T10:02:49.151626Z",
     "shell.execute_reply": "2022-09-08T10:02:49.150375Z"
    },
    "papermill": {
     "duration": 0.02905,
     "end_time": "2022-09-08T10:02:49.154607",
     "exception": false,
     "start_time": "2022-09-08T10:02:49.125557",
     "status": "completed"
    },
    "tags": []
   },
   "outputs": [
    {
     "name": "stdout",
     "output_type": "stream",
     "text": [
      "/kaggle/input/titanic/train.csv\n",
      "/kaggle/input/titanic/test.csv\n",
      "/kaggle/input/titanic/gender_submission.csv\n"
     ]
    }
   ],
   "source": [
    "import numpy as np # linear algebra\n",
    "import pandas as pd # data processing, CSV file I/O (e.g. pd.read_csv)\n",
    "\n",
    "# Input data files are available in the read-only \"../input/\" directory\n",
    "# For example, running this (by clicking run or pressing Shift+Enter) will list all files under the input directory\n",
    "\n",
    "import os\n",
    "for dirname, _, filenames in os.walk('/kaggle/input'):\n",
    "    for filename in filenames:\n",
    "        print(os.path.join(dirname, filename))\n"
   ]
  },
  {
   "cell_type": "code",
   "execution_count": 2,
   "id": "0d2623dd",
   "metadata": {
    "execution": {
     "iopub.execute_input": "2022-09-08T10:02:49.170599Z",
     "iopub.status.busy": "2022-09-08T10:02:49.169745Z",
     "iopub.status.idle": "2022-09-08T10:02:50.243593Z",
     "shell.execute_reply": "2022-09-08T10:02:50.242011Z"
    },
    "papermill": {
     "duration": 1.085264,
     "end_time": "2022-09-08T10:02:50.246761",
     "exception": false,
     "start_time": "2022-09-08T10:02:49.161497",
     "status": "completed"
    },
    "tags": []
   },
   "outputs": [
    {
     "name": "stdout",
     "output_type": "stream",
     "text": [
      "__notebook__.ipynb\r\n"
     ]
    }
   ],
   "source": [
    "ls"
   ]
  },
  {
   "cell_type": "code",
   "execution_count": 3,
   "id": "bef8500c",
   "metadata": {
    "execution": {
     "iopub.execute_input": "2022-09-08T10:02:50.263085Z",
     "iopub.status.busy": "2022-09-08T10:02:50.262096Z",
     "iopub.status.idle": "2022-09-08T10:02:50.307952Z",
     "shell.execute_reply": "2022-09-08T10:02:50.306515Z"
    },
    "papermill": {
     "duration": 0.057745,
     "end_time": "2022-09-08T10:02:50.311110",
     "exception": false,
     "start_time": "2022-09-08T10:02:50.253365",
     "status": "completed"
    },
    "tags": []
   },
   "outputs": [
    {
     "data": {
      "text/html": [
       "<div>\n",
       "<style scoped>\n",
       "    .dataframe tbody tr th:only-of-type {\n",
       "        vertical-align: middle;\n",
       "    }\n",
       "\n",
       "    .dataframe tbody tr th {\n",
       "        vertical-align: top;\n",
       "    }\n",
       "\n",
       "    .dataframe thead th {\n",
       "        text-align: right;\n",
       "    }\n",
       "</style>\n",
       "<table border=\"1\" class=\"dataframe\">\n",
       "  <thead>\n",
       "    <tr style=\"text-align: right;\">\n",
       "      <th></th>\n",
       "      <th>PassengerId</th>\n",
       "      <th>Survived</th>\n",
       "      <th>Pclass</th>\n",
       "      <th>Name</th>\n",
       "      <th>Sex</th>\n",
       "      <th>Age</th>\n",
       "      <th>SibSp</th>\n",
       "      <th>Parch</th>\n",
       "      <th>Ticket</th>\n",
       "      <th>Fare</th>\n",
       "      <th>Cabin</th>\n",
       "      <th>Embarked</th>\n",
       "    </tr>\n",
       "  </thead>\n",
       "  <tbody>\n",
       "    <tr>\n",
       "      <th>0</th>\n",
       "      <td>1</td>\n",
       "      <td>0</td>\n",
       "      <td>3</td>\n",
       "      <td>Braund, Mr. Owen Harris</td>\n",
       "      <td>male</td>\n",
       "      <td>22.0</td>\n",
       "      <td>1</td>\n",
       "      <td>0</td>\n",
       "      <td>A/5 21171</td>\n",
       "      <td>7.2500</td>\n",
       "      <td>NaN</td>\n",
       "      <td>S</td>\n",
       "    </tr>\n",
       "    <tr>\n",
       "      <th>1</th>\n",
       "      <td>2</td>\n",
       "      <td>1</td>\n",
       "      <td>1</td>\n",
       "      <td>Cumings, Mrs. John Bradley (Florence Briggs Th...</td>\n",
       "      <td>female</td>\n",
       "      <td>38.0</td>\n",
       "      <td>1</td>\n",
       "      <td>0</td>\n",
       "      <td>PC 17599</td>\n",
       "      <td>71.2833</td>\n",
       "      <td>C85</td>\n",
       "      <td>C</td>\n",
       "    </tr>\n",
       "    <tr>\n",
       "      <th>2</th>\n",
       "      <td>3</td>\n",
       "      <td>1</td>\n",
       "      <td>3</td>\n",
       "      <td>Heikkinen, Miss. Laina</td>\n",
       "      <td>female</td>\n",
       "      <td>26.0</td>\n",
       "      <td>0</td>\n",
       "      <td>0</td>\n",
       "      <td>STON/O2. 3101282</td>\n",
       "      <td>7.9250</td>\n",
       "      <td>NaN</td>\n",
       "      <td>S</td>\n",
       "    </tr>\n",
       "  </tbody>\n",
       "</table>\n",
       "</div>"
      ],
      "text/plain": [
       "   PassengerId  Survived  Pclass  \\\n",
       "0            1         0       3   \n",
       "1            2         1       1   \n",
       "2            3         1       3   \n",
       "\n",
       "                                                Name     Sex   Age  SibSp  \\\n",
       "0                            Braund, Mr. Owen Harris    male  22.0      1   \n",
       "1  Cumings, Mrs. John Bradley (Florence Briggs Th...  female  38.0      1   \n",
       "2                             Heikkinen, Miss. Laina  female  26.0      0   \n",
       "\n",
       "   Parch            Ticket     Fare Cabin Embarked  \n",
       "0      0         A/5 21171   7.2500   NaN        S  \n",
       "1      0          PC 17599  71.2833   C85        C  \n",
       "2      0  STON/O2. 3101282   7.9250   NaN        S  "
      ]
     },
     "execution_count": 3,
     "metadata": {},
     "output_type": "execute_result"
    }
   ],
   "source": [
    "train_data = pd.read_csv(\"/kaggle/input/titanic/train.csv\")\n",
    "train_data.head(3)"
   ]
  },
  {
   "cell_type": "code",
   "execution_count": 4,
   "id": "99c7341f",
   "metadata": {
    "execution": {
     "iopub.execute_input": "2022-09-08T10:02:50.327548Z",
     "iopub.status.busy": "2022-09-08T10:02:50.327047Z",
     "iopub.status.idle": "2022-09-08T10:02:50.353184Z",
     "shell.execute_reply": "2022-09-08T10:02:50.351871Z"
    },
    "papermill": {
     "duration": 0.037588,
     "end_time": "2022-09-08T10:02:50.355909",
     "exception": false,
     "start_time": "2022-09-08T10:02:50.318321",
     "status": "completed"
    },
    "tags": []
   },
   "outputs": [
    {
     "data": {
      "text/html": [
       "<div>\n",
       "<style scoped>\n",
       "    .dataframe tbody tr th:only-of-type {\n",
       "        vertical-align: middle;\n",
       "    }\n",
       "\n",
       "    .dataframe tbody tr th {\n",
       "        vertical-align: top;\n",
       "    }\n",
       "\n",
       "    .dataframe thead th {\n",
       "        text-align: right;\n",
       "    }\n",
       "</style>\n",
       "<table border=\"1\" class=\"dataframe\">\n",
       "  <thead>\n",
       "    <tr style=\"text-align: right;\">\n",
       "      <th></th>\n",
       "      <th>PassengerId</th>\n",
       "      <th>Pclass</th>\n",
       "      <th>Name</th>\n",
       "      <th>Sex</th>\n",
       "      <th>Age</th>\n",
       "      <th>SibSp</th>\n",
       "      <th>Parch</th>\n",
       "      <th>Ticket</th>\n",
       "      <th>Fare</th>\n",
       "      <th>Cabin</th>\n",
       "      <th>Embarked</th>\n",
       "    </tr>\n",
       "  </thead>\n",
       "  <tbody>\n",
       "    <tr>\n",
       "      <th>0</th>\n",
       "      <td>892</td>\n",
       "      <td>3</td>\n",
       "      <td>Kelly, Mr. James</td>\n",
       "      <td>male</td>\n",
       "      <td>34.5</td>\n",
       "      <td>0</td>\n",
       "      <td>0</td>\n",
       "      <td>330911</td>\n",
       "      <td>7.8292</td>\n",
       "      <td>NaN</td>\n",
       "      <td>Q</td>\n",
       "    </tr>\n",
       "    <tr>\n",
       "      <th>1</th>\n",
       "      <td>893</td>\n",
       "      <td>3</td>\n",
       "      <td>Wilkes, Mrs. James (Ellen Needs)</td>\n",
       "      <td>female</td>\n",
       "      <td>47.0</td>\n",
       "      <td>1</td>\n",
       "      <td>0</td>\n",
       "      <td>363272</td>\n",
       "      <td>7.0000</td>\n",
       "      <td>NaN</td>\n",
       "      <td>S</td>\n",
       "    </tr>\n",
       "    <tr>\n",
       "      <th>2</th>\n",
       "      <td>894</td>\n",
       "      <td>2</td>\n",
       "      <td>Myles, Mr. Thomas Francis</td>\n",
       "      <td>male</td>\n",
       "      <td>62.0</td>\n",
       "      <td>0</td>\n",
       "      <td>0</td>\n",
       "      <td>240276</td>\n",
       "      <td>9.6875</td>\n",
       "      <td>NaN</td>\n",
       "      <td>Q</td>\n",
       "    </tr>\n",
       "    <tr>\n",
       "      <th>3</th>\n",
       "      <td>895</td>\n",
       "      <td>3</td>\n",
       "      <td>Wirz, Mr. Albert</td>\n",
       "      <td>male</td>\n",
       "      <td>27.0</td>\n",
       "      <td>0</td>\n",
       "      <td>0</td>\n",
       "      <td>315154</td>\n",
       "      <td>8.6625</td>\n",
       "      <td>NaN</td>\n",
       "      <td>S</td>\n",
       "    </tr>\n",
       "    <tr>\n",
       "      <th>4</th>\n",
       "      <td>896</td>\n",
       "      <td>3</td>\n",
       "      <td>Hirvonen, Mrs. Alexander (Helga E Lindqvist)</td>\n",
       "      <td>female</td>\n",
       "      <td>22.0</td>\n",
       "      <td>1</td>\n",
       "      <td>1</td>\n",
       "      <td>3101298</td>\n",
       "      <td>12.2875</td>\n",
       "      <td>NaN</td>\n",
       "      <td>S</td>\n",
       "    </tr>\n",
       "  </tbody>\n",
       "</table>\n",
       "</div>"
      ],
      "text/plain": [
       "   PassengerId  Pclass                                          Name     Sex  \\\n",
       "0          892       3                              Kelly, Mr. James    male   \n",
       "1          893       3              Wilkes, Mrs. James (Ellen Needs)  female   \n",
       "2          894       2                     Myles, Mr. Thomas Francis    male   \n",
       "3          895       3                              Wirz, Mr. Albert    male   \n",
       "4          896       3  Hirvonen, Mrs. Alexander (Helga E Lindqvist)  female   \n",
       "\n",
       "    Age  SibSp  Parch   Ticket     Fare Cabin Embarked  \n",
       "0  34.5      0      0   330911   7.8292   NaN        Q  \n",
       "1  47.0      1      0   363272   7.0000   NaN        S  \n",
       "2  62.0      0      0   240276   9.6875   NaN        Q  \n",
       "3  27.0      0      0   315154   8.6625   NaN        S  \n",
       "4  22.0      1      1  3101298  12.2875   NaN        S  "
      ]
     },
     "execution_count": 4,
     "metadata": {},
     "output_type": "execute_result"
    }
   ],
   "source": [
    "test_data = pd.read_csv(\"/kaggle/input/titanic/test.csv\")\n",
    "test_data.head()"
   ]
  },
  {
   "cell_type": "code",
   "execution_count": 5,
   "id": "db4a5ff2",
   "metadata": {
    "execution": {
     "iopub.execute_input": "2022-09-08T10:02:50.372615Z",
     "iopub.status.busy": "2022-09-08T10:02:50.372114Z",
     "iopub.status.idle": "2022-09-08T10:02:58.105641Z",
     "shell.execute_reply": "2022-09-08T10:02:58.104196Z"
    },
    "papermill": {
     "duration": 7.745535,
     "end_time": "2022-09-08T10:02:58.108741",
     "exception": false,
     "start_time": "2022-09-08T10:02:50.363206",
     "status": "completed"
    },
    "tags": []
   },
   "outputs": [],
   "source": [
    "# modules\n",
    "import pandas as pd\n",
    "import numpy as np\n",
    "import matplotlib.pyplot as plt\n",
    "from sklearn.preprocessing import LabelEncoder\n",
    "from keras.wrappers.scikit_learn import KerasClassifier\n",
    "from keras.utils import np_utils\n",
    "from sklearn.model_selection import train_test_split  \n",
    "from sklearn.preprocessing import StandardScaler    \n",
    "\n",
    "# for modeling\n",
    "from keras.models import Sequential\n",
    "from keras.layers import Dense, Dropout\n",
    "from keras.callbacks import EarlyStopping"
   ]
  },
  {
   "cell_type": "code",
   "execution_count": 6,
   "id": "2a963e8f",
   "metadata": {
    "execution": {
     "iopub.execute_input": "2022-09-08T10:02:58.125440Z",
     "iopub.status.busy": "2022-09-08T10:02:58.124594Z",
     "iopub.status.idle": "2022-09-08T10:02:58.163772Z",
     "shell.execute_reply": "2022-09-08T10:02:58.162206Z"
    },
    "papermill": {
     "duration": 0.051226,
     "end_time": "2022-09-08T10:02:58.167223",
     "exception": false,
     "start_time": "2022-09-08T10:02:58.115997",
     "status": "completed"
    },
    "tags": []
   },
   "outputs": [
    {
     "name": "stdout",
     "output_type": "stream",
     "text": [
      "<class 'pandas.core.frame.DataFrame'>\n",
      "RangeIndex: 891 entries, 0 to 890\n",
      "Data columns (total 11 columns):\n",
      " #   Column       Non-Null Count  Dtype  \n",
      "---  ------       --------------  -----  \n",
      " 0   PassengerId  891 non-null    int64  \n",
      " 1   Survived     891 non-null    int64  \n",
      " 2   Pclass       891 non-null    int64  \n",
      " 3   Name         891 non-null    object \n",
      " 4   Sex          891 non-null    object \n",
      " 5   Age          891 non-null    float64\n",
      " 6   SibSp        891 non-null    int64  \n",
      " 7   Parch        891 non-null    int64  \n",
      " 8   Ticket       891 non-null    object \n",
      " 9   Fare         891 non-null    float64\n",
      " 10  Embarked     891 non-null    object \n",
      "dtypes: float64(2), int64(5), object(4)\n",
      "memory usage: 76.7+ KB\n"
     ]
    }
   ],
   "source": [
    "# first, delete the cabin column\n",
    "train_data.drop(['Cabin'], axis=1, inplace=True)\n",
    "\n",
    "# now impute the 'Age' column\n",
    "train_data['Age'].fillna(train_data['Age'].mean(), inplace=True)\n",
    "\n",
    "# now ditch the two rows from 'Embarked'\n",
    "train_data.fillna(0,inplace=True)\n",
    "\n",
    "train_data.info()"
   ]
  },
  {
   "cell_type": "code",
   "execution_count": 7,
   "id": "eb7b582d",
   "metadata": {
    "execution": {
     "iopub.execute_input": "2022-09-08T10:02:58.184647Z",
     "iopub.status.busy": "2022-09-08T10:02:58.183810Z",
     "iopub.status.idle": "2022-09-08T10:02:58.204298Z",
     "shell.execute_reply": "2022-09-08T10:02:58.202532Z"
    },
    "papermill": {
     "duration": 0.032531,
     "end_time": "2022-09-08T10:02:58.207265",
     "exception": false,
     "start_time": "2022-09-08T10:02:58.174734",
     "status": "completed"
    },
    "tags": []
   },
   "outputs": [
    {
     "name": "stdout",
     "output_type": "stream",
     "text": [
      "<class 'pandas.core.frame.DataFrame'>\n",
      "RangeIndex: 891 entries, 0 to 890\n",
      "Data columns (total 8 columns):\n",
      " #   Column    Non-Null Count  Dtype  \n",
      "---  ------    --------------  -----  \n",
      " 0   Survived  891 non-null    int64  \n",
      " 1   Pclass    891 non-null    int64  \n",
      " 2   Sex       891 non-null    int64  \n",
      " 3   Age       891 non-null    float64\n",
      " 4   SibSp     891 non-null    int64  \n",
      " 5   Parch     891 non-null    int64  \n",
      " 6   Fare      891 non-null    float64\n",
      " 7   Embarked  891 non-null    int64  \n",
      "dtypes: float64(2), int64(6)\n",
      "memory usage: 55.8 KB\n"
     ]
    }
   ],
   "source": [
    "# drop unncessary columns from train and testdf\n",
    "train_data.drop(['PassengerId', 'Name', 'Ticket'], axis=1, inplace=True)\n",
    "\n",
    "# recode the sex column\n",
    "train_data['Sex'].replace(('male', 'female'), (0, 1), inplace=True)\n",
    "\n",
    "# recode the embarked column\n",
    "train_data['Embarked'].replace(('Q', 'S', 'C'), (0, 1, 2), inplace=True)\n",
    "\n",
    "train_data.info()"
   ]
  },
  {
   "cell_type": "code",
   "execution_count": 8,
   "id": "ecebe2e3",
   "metadata": {
    "execution": {
     "iopub.execute_input": "2022-09-08T10:02:58.224594Z",
     "iopub.status.busy": "2022-09-08T10:02:58.224079Z",
     "iopub.status.idle": "2022-09-08T10:02:58.232817Z",
     "shell.execute_reply": "2022-09-08T10:02:58.231652Z"
    },
    "papermill": {
     "duration": 0.020643,
     "end_time": "2022-09-08T10:02:58.235505",
     "exception": false,
     "start_time": "2022-09-08T10:02:58.214862",
     "status": "completed"
    },
    "tags": []
   },
   "outputs": [
    {
     "data": {
      "text/plain": [
       "0    549\n",
       "1    342\n",
       "Name: Survived, dtype: int64"
      ]
     },
     "execution_count": 8,
     "metadata": {},
     "output_type": "execute_result"
    }
   ],
   "source": [
    "# check distribution of target variable\n",
    "train_data['Survived'].value_counts()"
   ]
  },
  {
   "cell_type": "code",
   "execution_count": 9,
   "id": "f4f44bbc",
   "metadata": {
    "execution": {
     "iopub.execute_input": "2022-09-08T10:02:58.253064Z",
     "iopub.status.busy": "2022-09-08T10:02:58.252568Z",
     "iopub.status.idle": "2022-09-08T10:02:58.261910Z",
     "shell.execute_reply": "2022-09-08T10:02:58.260661Z"
    },
    "papermill": {
     "duration": 0.020914,
     "end_time": "2022-09-08T10:02:58.264226",
     "exception": false,
     "start_time": "2022-09-08T10:02:58.243312",
     "status": "completed"
    },
    "tags": []
   },
   "outputs": [
    {
     "name": "stdout",
     "output_type": "stream",
     "text": [
      "(891, 7)\n",
      "(891,)\n"
     ]
    }
   ],
   "source": [
    "# split into X and Y\n",
    "Y = train_data['Survived']\n",
    "X = train_data.drop(['Survived'], axis=1)\n",
    "\n",
    "print(X.shape)\n",
    "print(Y.shape)\n",
    "\n",
    "# convert to numpy arrays\n",
    "X = np.array(X)"
   ]
  },
  {
   "cell_type": "code",
   "execution_count": 10,
   "id": "a54e1175",
   "metadata": {
    "execution": {
     "iopub.execute_input": "2022-09-08T10:02:58.281303Z",
     "iopub.status.busy": "2022-09-08T10:02:58.280568Z",
     "iopub.status.idle": "2022-09-08T10:02:58.287633Z",
     "shell.execute_reply": "2022-09-08T10:02:58.286518Z"
    },
    "papermill": {
     "duration": 0.018076,
     "end_time": "2022-09-08T10:02:58.289848",
     "exception": false,
     "start_time": "2022-09-08T10:02:58.271772",
     "status": "completed"
    },
    "tags": []
   },
   "outputs": [],
   "source": [
    "st_x= StandardScaler()    \n",
    "x= st_x.fit_transform(X)  "
   ]
  },
  {
   "cell_type": "code",
   "execution_count": 11,
   "id": "6819b79a",
   "metadata": {
    "execution": {
     "iopub.execute_input": "2022-09-08T10:02:58.306442Z",
     "iopub.status.busy": "2022-09-08T10:02:58.305992Z",
     "iopub.status.idle": "2022-09-08T10:03:05.827898Z",
     "shell.execute_reply": "2022-09-08T10:03:05.826418Z"
    },
    "papermill": {
     "duration": 7.533651,
     "end_time": "2022-09-08T10:03:05.830917",
     "exception": false,
     "start_time": "2022-09-08T10:02:58.297266",
     "status": "completed"
    },
    "tags": []
   },
   "outputs": [
    {
     "name": "stdout",
     "output_type": "stream",
     "text": [
      "Model: \"sequential\"\n",
      "_________________________________________________________________\n",
      "Layer (type)                 Output Shape              Param #   \n",
      "=================================================================\n",
      "dense (Dense)                (None, 24)                192       \n",
      "_________________________________________________________________\n",
      "dense_1 (Dense)              (None, 24)                600       \n",
      "_________________________________________________________________\n",
      "dense_2 (Dense)              (None, 1)                 25        \n",
      "=================================================================\n",
      "Total params: 817\n",
      "Trainable params: 817\n",
      "Non-trainable params: 0\n",
      "_________________________________________________________________\n"
     ]
    },
    {
     "name": "stderr",
     "output_type": "stream",
     "text": [
      "2022-09-08 10:02:58.349850: I tensorflow/core/common_runtime/process_util.cc:146] Creating new thread pool with default inter op setting: 2. Tune using inter_op_parallelism_threads for best performance.\n",
      "2022-09-08 10:02:58.542577: I tensorflow/compiler/mlir/mlir_graph_optimization_pass.cc:185] None of the MLIR Optimization Passes are enabled (registered 2)\n"
     ]
    },
    {
     "name": "stdout",
     "output_type": "stream",
     "text": [
      "Epoch 1/80\n",
      "72/72 [==============================] - 1s 5ms/step - loss: 0.6133 - accuracy: 0.7303 - val_loss: 0.4947 - val_accuracy: 0.8436\n",
      "Epoch 2/80\n",
      "72/72 [==============================] - 0s 2ms/step - loss: 0.4919 - accuracy: 0.7963 - val_loss: 0.4033 - val_accuracy: 0.8547\n",
      "Epoch 3/80\n",
      "72/72 [==============================] - 0s 2ms/step - loss: 0.4525 - accuracy: 0.8104 - val_loss: 0.3779 - val_accuracy: 0.8547\n",
      "Epoch 4/80\n",
      "72/72 [==============================] - 0s 2ms/step - loss: 0.4405 - accuracy: 0.8090 - val_loss: 0.3681 - val_accuracy: 0.8547\n",
      "Epoch 5/80\n",
      "72/72 [==============================] - 0s 2ms/step - loss: 0.4340 - accuracy: 0.8062 - val_loss: 0.3622 - val_accuracy: 0.8547\n",
      "Epoch 6/80\n",
      "72/72 [==============================] - 0s 2ms/step - loss: 0.4275 - accuracy: 0.8076 - val_loss: 0.3587 - val_accuracy: 0.8547\n",
      "Epoch 7/80\n",
      "72/72 [==============================] - 0s 3ms/step - loss: 0.4248 - accuracy: 0.8118 - val_loss: 0.3556 - val_accuracy: 0.8547\n",
      "Epoch 8/80\n",
      "72/72 [==============================] - 0s 3ms/step - loss: 0.4206 - accuracy: 0.8104 - val_loss: 0.3517 - val_accuracy: 0.8603\n",
      "Epoch 9/80\n",
      "72/72 [==============================] - 0s 2ms/step - loss: 0.4184 - accuracy: 0.8146 - val_loss: 0.3500 - val_accuracy: 0.8603\n",
      "Epoch 10/80\n",
      "72/72 [==============================] - 0s 2ms/step - loss: 0.4176 - accuracy: 0.8090 - val_loss: 0.3501 - val_accuracy: 0.8547\n",
      "Epoch 11/80\n",
      "72/72 [==============================] - 0s 3ms/step - loss: 0.4130 - accuracy: 0.8160 - val_loss: 0.3448 - val_accuracy: 0.8659\n",
      "Epoch 12/80\n",
      "72/72 [==============================] - 0s 3ms/step - loss: 0.4127 - accuracy: 0.8160 - val_loss: 0.3428 - val_accuracy: 0.8771\n",
      "Epoch 13/80\n",
      "72/72 [==============================] - 0s 3ms/step - loss: 0.4098 - accuracy: 0.8174 - val_loss: 0.3426 - val_accuracy: 0.8659\n",
      "Epoch 14/80\n",
      "72/72 [==============================] - 0s 3ms/step - loss: 0.4093 - accuracy: 0.8244 - val_loss: 0.3455 - val_accuracy: 0.8603\n",
      "Epoch 15/80\n",
      "72/72 [==============================] - 0s 2ms/step - loss: 0.4060 - accuracy: 0.8188 - val_loss: 0.3403 - val_accuracy: 0.8771\n",
      "Epoch 16/80\n",
      "72/72 [==============================] - 0s 2ms/step - loss: 0.4042 - accuracy: 0.8230 - val_loss: 0.3391 - val_accuracy: 0.8603\n",
      "Epoch 17/80\n",
      "72/72 [==============================] - 0s 2ms/step - loss: 0.4045 - accuracy: 0.8301 - val_loss: 0.3379 - val_accuracy: 0.8771\n",
      "Epoch 18/80\n",
      "72/72 [==============================] - 0s 2ms/step - loss: 0.4026 - accuracy: 0.8272 - val_loss: 0.3355 - val_accuracy: 0.8827\n",
      "Epoch 19/80\n",
      "72/72 [==============================] - 0s 3ms/step - loss: 0.4003 - accuracy: 0.8244 - val_loss: 0.3373 - val_accuracy: 0.8883\n",
      "Epoch 20/80\n",
      "72/72 [==============================] - 0s 2ms/step - loss: 0.4000 - accuracy: 0.8329 - val_loss: 0.3387 - val_accuracy: 0.8827\n",
      "Epoch 21/80\n",
      "72/72 [==============================] - 0s 2ms/step - loss: 0.3974 - accuracy: 0.8258 - val_loss: 0.3396 - val_accuracy: 0.8715\n",
      "Epoch 22/80\n",
      "72/72 [==============================] - 0s 2ms/step - loss: 0.3959 - accuracy: 0.8329 - val_loss: 0.3417 - val_accuracy: 0.8883\n",
      "Epoch 23/80\n",
      "72/72 [==============================] - 0s 3ms/step - loss: 0.3960 - accuracy: 0.8315 - val_loss: 0.3390 - val_accuracy: 0.8883\n",
      "Epoch 24/80\n",
      "72/72 [==============================] - 0s 3ms/step - loss: 0.3938 - accuracy: 0.8329 - val_loss: 0.3366 - val_accuracy: 0.8771\n",
      "Epoch 25/80\n",
      "72/72 [==============================] - 0s 2ms/step - loss: 0.3927 - accuracy: 0.8301 - val_loss: 0.3363 - val_accuracy: 0.8659\n",
      "Epoch 26/80\n",
      "72/72 [==============================] - 0s 2ms/step - loss: 0.3922 - accuracy: 0.8371 - val_loss: 0.3357 - val_accuracy: 0.8771\n",
      "Epoch 27/80\n",
      "72/72 [==============================] - 0s 2ms/step - loss: 0.3902 - accuracy: 0.8329 - val_loss: 0.3330 - val_accuracy: 0.8603\n",
      "Epoch 28/80\n",
      "72/72 [==============================] - 0s 2ms/step - loss: 0.3887 - accuracy: 0.8287 - val_loss: 0.3400 - val_accuracy: 0.8659\n",
      "Epoch 29/80\n",
      "72/72 [==============================] - 0s 2ms/step - loss: 0.3882 - accuracy: 0.8343 - val_loss: 0.3358 - val_accuracy: 0.8603\n",
      "Epoch 30/80\n",
      "72/72 [==============================] - 0s 2ms/step - loss: 0.3874 - accuracy: 0.8301 - val_loss: 0.3354 - val_accuracy: 0.8659\n",
      "Epoch 31/80\n",
      "72/72 [==============================] - 0s 2ms/step - loss: 0.3867 - accuracy: 0.8329 - val_loss: 0.3430 - val_accuracy: 0.8771\n",
      "Epoch 32/80\n",
      "72/72 [==============================] - 0s 2ms/step - loss: 0.3866 - accuracy: 0.8371 - val_loss: 0.3359 - val_accuracy: 0.8603\n",
      "Epoch 33/80\n",
      "72/72 [==============================] - 0s 2ms/step - loss: 0.3853 - accuracy: 0.8315 - val_loss: 0.3347 - val_accuracy: 0.8659\n",
      "Epoch 34/80\n",
      "72/72 [==============================] - 0s 2ms/step - loss: 0.3842 - accuracy: 0.8329 - val_loss: 0.3430 - val_accuracy: 0.8715\n"
     ]
    }
   ],
   "source": [
    "# build a model\n",
    "model = Sequential()\n",
    "model.add(Dense(24, input_shape=(x.shape[1],), activation='relu')) # Add an input shape! (features,)\n",
    "model.add(Dense(24, activation='relu'))\n",
    "model.add(Dense(1, activation='sigmoid'))\n",
    "model.summary() \n",
    "\n",
    "# compile the model\n",
    "model.compile(optimizer='Adam', \n",
    "              loss='binary_crossentropy',\n",
    "              metrics=['accuracy'])\n",
    "\n",
    "# early stopping callback\n",
    "# This callback will stop the training when there is no improvement in  \n",
    "# the validation loss for 10 consecutive epochs.  \n",
    "es = EarlyStopping(monitor='val_accuracy', \n",
    "                                   mode='max', # don't minimize the accuracy!\n",
    "                                   patience=15,\n",
    "                                   restore_best_weights=True)\n",
    "\n",
    "# now we just update our model fit call\n",
    "history = model.fit(x,\n",
    "                    Y,\n",
    "                    callbacks=[es],\n",
    "                    epochs=80, # you can set this to a big number!\n",
    "                    batch_size=10,\n",
    "                    validation_split=0.2,\n",
    "                    shuffle=True,\n",
    "                    verbose=1)"
   ]
  },
  {
   "cell_type": "code",
   "execution_count": 12,
   "id": "308ca0ca",
   "metadata": {
    "execution": {
     "iopub.execute_input": "2022-09-08T10:03:05.867687Z",
     "iopub.status.busy": "2022-09-08T10:03:05.866797Z",
     "iopub.status.idle": "2022-09-08T10:03:05.884219Z",
     "shell.execute_reply": "2022-09-08T10:03:05.882795Z"
    },
    "papermill": {
     "duration": 0.03855,
     "end_time": "2022-09-08T10:03:05.886935",
     "exception": false,
     "start_time": "2022-09-08T10:03:05.848385",
     "status": "completed"
    },
    "tags": []
   },
   "outputs": [
    {
     "data": {
      "text/html": [
       "<div>\n",
       "<style scoped>\n",
       "    .dataframe tbody tr th:only-of-type {\n",
       "        vertical-align: middle;\n",
       "    }\n",
       "\n",
       "    .dataframe tbody tr th {\n",
       "        vertical-align: top;\n",
       "    }\n",
       "\n",
       "    .dataframe thead th {\n",
       "        text-align: right;\n",
       "    }\n",
       "</style>\n",
       "<table border=\"1\" class=\"dataframe\">\n",
       "  <thead>\n",
       "    <tr style=\"text-align: right;\">\n",
       "      <th></th>\n",
       "      <th>Pclass</th>\n",
       "      <th>Sex</th>\n",
       "      <th>Age</th>\n",
       "      <th>SibSp</th>\n",
       "      <th>Parch</th>\n",
       "      <th>Fare</th>\n",
       "      <th>Embarked</th>\n",
       "    </tr>\n",
       "  </thead>\n",
       "  <tbody>\n",
       "    <tr>\n",
       "      <th>0</th>\n",
       "      <td>3</td>\n",
       "      <td>male</td>\n",
       "      <td>34.5</td>\n",
       "      <td>0</td>\n",
       "      <td>0</td>\n",
       "      <td>7.8292</td>\n",
       "      <td>Q</td>\n",
       "    </tr>\n",
       "    <tr>\n",
       "      <th>1</th>\n",
       "      <td>3</td>\n",
       "      <td>female</td>\n",
       "      <td>47.0</td>\n",
       "      <td>1</td>\n",
       "      <td>0</td>\n",
       "      <td>7.0000</td>\n",
       "      <td>S</td>\n",
       "    </tr>\n",
       "    <tr>\n",
       "      <th>2</th>\n",
       "      <td>2</td>\n",
       "      <td>male</td>\n",
       "      <td>62.0</td>\n",
       "      <td>0</td>\n",
       "      <td>0</td>\n",
       "      <td>9.6875</td>\n",
       "      <td>Q</td>\n",
       "    </tr>\n",
       "    <tr>\n",
       "      <th>3</th>\n",
       "      <td>3</td>\n",
       "      <td>male</td>\n",
       "      <td>27.0</td>\n",
       "      <td>0</td>\n",
       "      <td>0</td>\n",
       "      <td>8.6625</td>\n",
       "      <td>S</td>\n",
       "    </tr>\n",
       "    <tr>\n",
       "      <th>4</th>\n",
       "      <td>3</td>\n",
       "      <td>female</td>\n",
       "      <td>22.0</td>\n",
       "      <td>1</td>\n",
       "      <td>1</td>\n",
       "      <td>12.2875</td>\n",
       "      <td>S</td>\n",
       "    </tr>\n",
       "  </tbody>\n",
       "</table>\n",
       "</div>"
      ],
      "text/plain": [
       "   Pclass     Sex   Age  SibSp  Parch     Fare Embarked\n",
       "0       3    male  34.5      0      0   7.8292        Q\n",
       "1       3  female  47.0      1      0   7.0000        S\n",
       "2       2    male  62.0      0      0   9.6875        Q\n",
       "3       3    male  27.0      0      0   8.6625        S\n",
       "4       3  female  22.0      1      1  12.2875        S"
      ]
     },
     "execution_count": 12,
     "metadata": {},
     "output_type": "execute_result"
    }
   ],
   "source": [
    "xii = test_data.iloc[:,[1,3,4,5,6,8,10]]\n",
    "xii.head()"
   ]
  },
  {
   "cell_type": "code",
   "execution_count": 13,
   "id": "db77091a",
   "metadata": {
    "execution": {
     "iopub.execute_input": "2022-09-08T10:03:05.922071Z",
     "iopub.status.busy": "2022-09-08T10:03:05.921596Z",
     "iopub.status.idle": "2022-09-08T10:03:05.949846Z",
     "shell.execute_reply": "2022-09-08T10:03:05.948418Z"
    },
    "papermill": {
     "duration": 0.050246,
     "end_time": "2022-09-08T10:03:05.953647",
     "exception": false,
     "start_time": "2022-09-08T10:03:05.903401",
     "status": "completed"
    },
    "tags": []
   },
   "outputs": [
    {
     "name": "stdout",
     "output_type": "stream",
     "text": [
      "<class 'pandas.core.frame.DataFrame'>\n",
      "RangeIndex: 418 entries, 0 to 417\n",
      "Data columns (total 7 columns):\n",
      " #   Column    Non-Null Count  Dtype  \n",
      "---  ------    --------------  -----  \n",
      " 0   Pclass    418 non-null    int64  \n",
      " 1   Sex       418 non-null    object \n",
      " 2   Age       418 non-null    float64\n",
      " 3   SibSp     418 non-null    int64  \n",
      " 4   Parch     418 non-null    int64  \n",
      " 5   Fare      418 non-null    float64\n",
      " 6   Embarked  418 non-null    object \n",
      "dtypes: float64(2), int64(3), object(2)\n",
      "memory usage: 23.0+ KB\n"
     ]
    },
    {
     "name": "stderr",
     "output_type": "stream",
     "text": [
      "/opt/conda/lib/python3.7/site-packages/pandas/core/generic.py:6392: SettingWithCopyWarning: \n",
      "A value is trying to be set on a copy of a slice from a DataFrame\n",
      "\n",
      "See the caveats in the documentation: https://pandas.pydata.org/pandas-docs/stable/user_guide/indexing.html#returning-a-view-versus-a-copy\n",
      "  return self._update_inplace(result)\n",
      "/opt/conda/lib/python3.7/site-packages/pandas/core/frame.py:5182: SettingWithCopyWarning: \n",
      "A value is trying to be set on a copy of a slice from a DataFrame\n",
      "\n",
      "See the caveats in the documentation: https://pandas.pydata.org/pandas-docs/stable/user_guide/indexing.html#returning-a-view-versus-a-copy\n",
      "  downcast=downcast,\n"
     ]
    }
   ],
   "source": [
    "# now impute the 'Age' column\n",
    "xii['Age'].fillna(xii['Age'].mean(), inplace=True)\n",
    "\n",
    "# now ditch the two rows from 'Embarked'\n",
    "xii.fillna(0,inplace=True)\n",
    "\n",
    "xii.info()"
   ]
  },
  {
   "cell_type": "code",
   "execution_count": 14,
   "id": "5866fccf",
   "metadata": {
    "execution": {
     "iopub.execute_input": "2022-09-08T10:03:05.990240Z",
     "iopub.status.busy": "2022-09-08T10:03:05.988878Z",
     "iopub.status.idle": "2022-09-08T10:03:06.006969Z",
     "shell.execute_reply": "2022-09-08T10:03:06.006077Z"
    },
    "papermill": {
     "duration": 0.040683,
     "end_time": "2022-09-08T10:03:06.011406",
     "exception": false,
     "start_time": "2022-09-08T10:03:05.970723",
     "status": "completed"
    },
    "tags": []
   },
   "outputs": [
    {
     "name": "stdout",
     "output_type": "stream",
     "text": [
      "<class 'pandas.core.frame.DataFrame'>\n",
      "RangeIndex: 418 entries, 0 to 417\n",
      "Data columns (total 7 columns):\n",
      " #   Column    Non-Null Count  Dtype  \n",
      "---  ------    --------------  -----  \n",
      " 0   Pclass    418 non-null    int64  \n",
      " 1   Sex       418 non-null    int64  \n",
      " 2   Age       418 non-null    float64\n",
      " 3   SibSp     418 non-null    int64  \n",
      " 4   Parch     418 non-null    int64  \n",
      " 5   Fare      418 non-null    float64\n",
      " 6   Embarked  418 non-null    int64  \n",
      "dtypes: float64(2), int64(5)\n",
      "memory usage: 23.0 KB\n"
     ]
    },
    {
     "name": "stderr",
     "output_type": "stream",
     "text": [
      "/opt/conda/lib/python3.7/site-packages/pandas/core/generic.py:6619: SettingWithCopyWarning: \n",
      "A value is trying to be set on a copy of a slice from a DataFrame\n",
      "\n",
      "See the caveats in the documentation: https://pandas.pydata.org/pandas-docs/stable/user_guide/indexing.html#returning-a-view-versus-a-copy\n",
      "  return self._update_inplace(result)\n"
     ]
    }
   ],
   "source": [
    "# recode the sex column\n",
    "xii['Sex'].replace(('male', 'female'), (0, 1), inplace=True)\n",
    "\n",
    "# recode the embarked column\n",
    "xii['Embarked'].replace(('Q', 'S', 'C'), (0, 1, 2), inplace=True)\n",
    "\n",
    "xii.info()"
   ]
  },
  {
   "cell_type": "code",
   "execution_count": 15,
   "id": "a7f19f55",
   "metadata": {
    "execution": {
     "iopub.execute_input": "2022-09-08T10:03:06.048737Z",
     "iopub.status.busy": "2022-09-08T10:03:06.047419Z",
     "iopub.status.idle": "2022-09-08T10:03:06.054393Z",
     "shell.execute_reply": "2022-09-08T10:03:06.053522Z"
    },
    "papermill": {
     "duration": 0.028106,
     "end_time": "2022-09-08T10:03:06.057017",
     "exception": false,
     "start_time": "2022-09-08T10:03:06.028911",
     "status": "completed"
    },
    "tags": []
   },
   "outputs": [
    {
     "name": "stdout",
     "output_type": "stream",
     "text": [
      "(418, 7)\n"
     ]
    }
   ],
   "source": [
    "# split into X and Y\n",
    "Xt = xii\n",
    "print(Xt.shape)\n",
    "\n",
    "# convert to numpy arrays\n",
    "Xt = np.array(Xt)"
   ]
  },
  {
   "cell_type": "code",
   "execution_count": 16,
   "id": "be430730",
   "metadata": {
    "execution": {
     "iopub.execute_input": "2022-09-08T10:03:06.095559Z",
     "iopub.status.busy": "2022-09-08T10:03:06.094324Z",
     "iopub.status.idle": "2022-09-08T10:03:06.100591Z",
     "shell.execute_reply": "2022-09-08T10:03:06.099564Z"
    },
    "papermill": {
     "duration": 0.028132,
     "end_time": "2022-09-08T10:03:06.103135",
     "exception": false,
     "start_time": "2022-09-08T10:03:06.075003",
     "status": "completed"
    },
    "tags": []
   },
   "outputs": [],
   "source": [
    "x_test= st_x.fit_transform(Xt)   "
   ]
  },
  {
   "cell_type": "code",
   "execution_count": 17,
   "id": "91718d0c",
   "metadata": {
    "execution": {
     "iopub.execute_input": "2022-09-08T10:03:06.139940Z",
     "iopub.status.busy": "2022-09-08T10:03:06.139122Z",
     "iopub.status.idle": "2022-09-08T10:03:06.313338Z",
     "shell.execute_reply": "2022-09-08T10:03:06.312069Z"
    },
    "papermill": {
     "duration": 0.196015,
     "end_time": "2022-09-08T10:03:06.316191",
     "exception": false,
     "start_time": "2022-09-08T10:03:06.120176",
     "status": "completed"
    },
    "tags": []
   },
   "outputs": [],
   "source": [
    "y_pred = np.round(model.predict(x_test),0)"
   ]
  },
  {
   "cell_type": "code",
   "execution_count": 18,
   "id": "332bd8ff",
   "metadata": {
    "execution": {
     "iopub.execute_input": "2022-09-08T10:03:06.352676Z",
     "iopub.status.busy": "2022-09-08T10:03:06.351918Z",
     "iopub.status.idle": "2022-09-08T10:03:06.358597Z",
     "shell.execute_reply": "2022-09-08T10:03:06.357392Z"
    },
    "papermill": {
     "duration": 0.027777,
     "end_time": "2022-09-08T10:03:06.360943",
     "exception": false,
     "start_time": "2022-09-08T10:03:06.333166",
     "status": "completed"
    },
    "tags": []
   },
   "outputs": [
    {
     "data": {
      "text/plain": [
       "(418, 1)"
      ]
     },
     "execution_count": 18,
     "metadata": {},
     "output_type": "execute_result"
    }
   ],
   "source": [
    "np.shape(y_pred)"
   ]
  },
  {
   "cell_type": "code",
   "execution_count": 19,
   "id": "fbbe8acc",
   "metadata": {
    "execution": {
     "iopub.execute_input": "2022-09-08T10:03:06.397900Z",
     "iopub.status.busy": "2022-09-08T10:03:06.397105Z",
     "iopub.status.idle": "2022-09-08T10:03:06.402018Z",
     "shell.execute_reply": "2022-09-08T10:03:06.401058Z"
    },
    "papermill": {
     "duration": 0.026366,
     "end_time": "2022-09-08T10:03:06.404383",
     "exception": false,
     "start_time": "2022-09-08T10:03:06.378017",
     "status": "completed"
    },
    "tags": []
   },
   "outputs": [],
   "source": [
    "y_pred1 = np.reshape(y_pred,418)"
   ]
  },
  {
   "cell_type": "code",
   "execution_count": 20,
   "id": "1338bc62",
   "metadata": {
    "execution": {
     "iopub.execute_input": "2022-09-08T10:03:06.440947Z",
     "iopub.status.busy": "2022-09-08T10:03:06.440173Z",
     "iopub.status.idle": "2022-09-08T10:03:06.444930Z",
     "shell.execute_reply": "2022-09-08T10:03:06.444011Z"
    },
    "papermill": {
     "duration": 0.025813,
     "end_time": "2022-09-08T10:03:06.447165",
     "exception": false,
     "start_time": "2022-09-08T10:03:06.421352",
     "status": "completed"
    },
    "tags": []
   },
   "outputs": [],
   "source": [
    "y_pred1 =y_pred1.astype(int)"
   ]
  },
  {
   "cell_type": "code",
   "execution_count": 21,
   "id": "568a59b3",
   "metadata": {
    "execution": {
     "iopub.execute_input": "2022-09-08T10:03:06.483826Z",
     "iopub.status.busy": "2022-09-08T10:03:06.483043Z",
     "iopub.status.idle": "2022-09-08T10:03:06.491777Z",
     "shell.execute_reply": "2022-09-08T10:03:06.490636Z"
    },
    "papermill": {
     "duration": 0.030312,
     "end_time": "2022-09-08T10:03:06.494448",
     "exception": false,
     "start_time": "2022-09-08T10:03:06.464136",
     "status": "completed"
    },
    "tags": []
   },
   "outputs": [
    {
     "data": {
      "text/plain": [
       "array([0, 1, 0, 0, 0, 0, 1, 0, 1, 0, 0, 0, 1, 0, 1, 1, 0, 0, 0, 0, 0, 0,\n",
       "       1, 1, 1, 0, 1, 0, 0, 0, 0, 0, 0, 0, 1, 0, 0, 1, 0, 0, 0, 0, 0, 1,\n",
       "       1, 0, 0, 0, 1, 0, 1, 0, 1, 1, 0, 0, 0, 0, 0, 1, 0, 0, 0, 1, 1, 1,\n",
       "       1, 0, 0, 1, 1, 0, 0, 0, 1, 0, 0, 1, 0, 1, 1, 0, 0, 0, 0, 0, 1, 1,\n",
       "       1, 1, 0, 0, 1, 0, 0, 0, 1, 0, 1, 0, 1, 0, 0, 0, 1, 0, 0, 0, 0, 0,\n",
       "       0, 1, 1, 1, 1, 0, 0, 1, 0, 1, 1, 0, 1, 0, 0, 1, 0, 1, 0, 0, 0, 0,\n",
       "       0, 0, 0, 0, 0, 0, 1, 0, 0, 1, 0, 0, 0, 0, 0, 0, 0, 0, 1, 0, 0, 0,\n",
       "       0, 0, 1, 1, 0, 1, 1, 1, 1, 0, 0, 0, 0, 0, 1, 1, 0, 0, 0, 0, 0, 1,\n",
       "       1, 0, 1, 1, 0, 1, 1, 0, 1, 0, 1, 0, 0, 0, 0, 0, 0, 0, 1, 0, 1, 1,\n",
       "       0, 0, 1, 1, 0, 1, 0, 0, 1, 0, 1, 0, 0, 0, 0, 1, 0, 0, 1, 0, 1, 0,\n",
       "       1, 0, 1, 0, 1, 1, 0, 1, 0, 0, 0, 1, 0, 0, 1, 0, 0, 0, 1, 1, 1, 1,\n",
       "       0, 0, 0, 0, 1, 0, 1, 0, 1, 0, 1, 0, 0, 0, 0, 0, 1, 0, 0, 0, 1, 1,\n",
       "       0, 0, 0, 0, 0, 0, 0, 0, 1, 1, 0, 1, 0, 0, 0, 0, 1, 1, 1, 1, 1, 0,\n",
       "       0, 1, 0, 0, 0, 1, 0, 0, 0, 0, 1, 0, 0, 0, 0, 0, 0, 0, 1, 1, 0, 1,\n",
       "       0, 1, 0, 0, 0, 1, 1, 1, 0, 0, 0, 0, 0, 0, 0, 0, 1, 0, 1, 0, 0, 0,\n",
       "       1, 0, 0, 1, 0, 0, 0, 0, 0, 0, 0, 0, 0, 1, 0, 1, 0, 0, 0, 1, 1, 0,\n",
       "       0, 0, 1, 0, 1, 0, 0, 0, 0, 1, 1, 0, 1, 0, 0, 1, 1, 0, 0, 1, 0, 0,\n",
       "       1, 1, 0, 0, 0, 0, 0, 0, 0, 0, 0, 1, 0, 0, 0, 0, 0, 1, 0, 0, 0, 1,\n",
       "       0, 1, 0, 0, 1, 0, 1, 1, 1, 0, 0, 0, 1, 1, 1, 1, 0, 0, 1, 0, 0, 0])"
      ]
     },
     "execution_count": 21,
     "metadata": {},
     "output_type": "execute_result"
    }
   ],
   "source": [
    "y_pred1"
   ]
  },
  {
   "cell_type": "code",
   "execution_count": 22,
   "id": "1c0eeccb",
   "metadata": {
    "execution": {
     "iopub.execute_input": "2022-09-08T10:03:06.530985Z",
     "iopub.status.busy": "2022-09-08T10:03:06.530480Z",
     "iopub.status.idle": "2022-09-08T10:03:06.543141Z",
     "shell.execute_reply": "2022-09-08T10:03:06.541546Z"
    },
    "papermill": {
     "duration": 0.03451,
     "end_time": "2022-09-08T10:03:06.546074",
     "exception": false,
     "start_time": "2022-09-08T10:03:06.511564",
     "status": "completed"
    },
    "tags": []
   },
   "outputs": [
    {
     "name": "stdout",
     "output_type": "stream",
     "text": [
      "Your submission was successfully saved!\n"
     ]
    }
   ],
   "source": [
    "output = pd.DataFrame({'PassengerId': test_data.PassengerId, 'Survived': y_pred1})\n",
    "output.to_csv('submission.csv', index=False)\n",
    "print(\"Your submission was successfully saved!\")"
   ]
  },
  {
   "cell_type": "code",
   "execution_count": 23,
   "id": "5655c633",
   "metadata": {
    "execution": {
     "iopub.execute_input": "2022-09-08T10:03:06.583353Z",
     "iopub.status.busy": "2022-09-08T10:03:06.582167Z",
     "iopub.status.idle": "2022-09-08T10:03:06.599531Z",
     "shell.execute_reply": "2022-09-08T10:03:06.598414Z"
    },
    "papermill": {
     "duration": 0.038844,
     "end_time": "2022-09-08T10:03:06.602179",
     "exception": false,
     "start_time": "2022-09-08T10:03:06.563335",
     "status": "completed"
    },
    "tags": []
   },
   "outputs": [
    {
     "data": {
      "text/html": [
       "<div>\n",
       "<style scoped>\n",
       "    .dataframe tbody tr th:only-of-type {\n",
       "        vertical-align: middle;\n",
       "    }\n",
       "\n",
       "    .dataframe tbody tr th {\n",
       "        vertical-align: top;\n",
       "    }\n",
       "\n",
       "    .dataframe thead th {\n",
       "        text-align: right;\n",
       "    }\n",
       "</style>\n",
       "<table border=\"1\" class=\"dataframe\">\n",
       "  <thead>\n",
       "    <tr style=\"text-align: right;\">\n",
       "      <th></th>\n",
       "      <th>PassengerId</th>\n",
       "      <th>Survived</th>\n",
       "    </tr>\n",
       "  </thead>\n",
       "  <tbody>\n",
       "    <tr>\n",
       "      <th>0</th>\n",
       "      <td>892</td>\n",
       "      <td>0</td>\n",
       "    </tr>\n",
       "    <tr>\n",
       "      <th>1</th>\n",
       "      <td>893</td>\n",
       "      <td>1</td>\n",
       "    </tr>\n",
       "    <tr>\n",
       "      <th>2</th>\n",
       "      <td>894</td>\n",
       "      <td>0</td>\n",
       "    </tr>\n",
       "    <tr>\n",
       "      <th>3</th>\n",
       "      <td>895</td>\n",
       "      <td>0</td>\n",
       "    </tr>\n",
       "    <tr>\n",
       "      <th>4</th>\n",
       "      <td>896</td>\n",
       "      <td>0</td>\n",
       "    </tr>\n",
       "    <tr>\n",
       "      <th>...</th>\n",
       "      <td>...</td>\n",
       "      <td>...</td>\n",
       "    </tr>\n",
       "    <tr>\n",
       "      <th>413</th>\n",
       "      <td>1305</td>\n",
       "      <td>0</td>\n",
       "    </tr>\n",
       "    <tr>\n",
       "      <th>414</th>\n",
       "      <td>1306</td>\n",
       "      <td>1</td>\n",
       "    </tr>\n",
       "    <tr>\n",
       "      <th>415</th>\n",
       "      <td>1307</td>\n",
       "      <td>0</td>\n",
       "    </tr>\n",
       "    <tr>\n",
       "      <th>416</th>\n",
       "      <td>1308</td>\n",
       "      <td>0</td>\n",
       "    </tr>\n",
       "    <tr>\n",
       "      <th>417</th>\n",
       "      <td>1309</td>\n",
       "      <td>0</td>\n",
       "    </tr>\n",
       "  </tbody>\n",
       "</table>\n",
       "<p>418 rows × 2 columns</p>\n",
       "</div>"
      ],
      "text/plain": [
       "     PassengerId  Survived\n",
       "0            892         0\n",
       "1            893         1\n",
       "2            894         0\n",
       "3            895         0\n",
       "4            896         0\n",
       "..           ...       ...\n",
       "413         1305         0\n",
       "414         1306         1\n",
       "415         1307         0\n",
       "416         1308         0\n",
       "417         1309         0\n",
       "\n",
       "[418 rows x 2 columns]"
      ]
     },
     "execution_count": 23,
     "metadata": {},
     "output_type": "execute_result"
    }
   ],
   "source": [
    "pd.read_csv('submission.csv')"
   ]
  },
  {
   "cell_type": "code",
   "execution_count": null,
   "id": "d284f190",
   "metadata": {
    "papermill": {
     "duration": 0.016982,
     "end_time": "2022-09-08T10:03:06.636807",
     "exception": false,
     "start_time": "2022-09-08T10:03:06.619825",
     "status": "completed"
    },
    "tags": []
   },
   "outputs": [],
   "source": []
  }
 ],
 "metadata": {
  "kernelspec": {
   "display_name": "Python 3",
   "language": "python",
   "name": "python3"
  },
  "language_info": {
   "codemirror_mode": {
    "name": "ipython",
    "version": 3
   },
   "file_extension": ".py",
   "mimetype": "text/x-python",
   "name": "python",
   "nbconvert_exporter": "python",
   "pygments_lexer": "ipython3",
   "version": "3.7.12"
  },
  "papermill": {
   "default_parameters": {},
   "duration": 30.310736,
   "end_time": "2022-09-08T10:03:09.491407",
   "environment_variables": {},
   "exception": null,
   "input_path": "__notebook__.ipynb",
   "output_path": "__notebook__.ipynb",
   "parameters": {},
   "start_time": "2022-09-08T10:02:39.180671",
   "version": "2.3.4"
  }
 },
 "nbformat": 4,
 "nbformat_minor": 5
}
