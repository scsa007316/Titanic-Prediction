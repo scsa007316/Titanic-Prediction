{
 "cells": [
  {
   "cell_type": "code",
   "execution_count": 1,
   "id": "080762a8",
   "metadata": {
    "execution": {
     "iopub.execute_input": "2022-09-06T09:12:42.761789Z",
     "iopub.status.busy": "2022-09-06T09:12:42.760619Z",
     "iopub.status.idle": "2022-09-06T09:12:42.775441Z",
     "shell.execute_reply": "2022-09-06T09:12:42.774284Z"
    },
    "papermill": {
     "duration": 0.029449,
     "end_time": "2022-09-06T09:12:42.779277",
     "exception": false,
     "start_time": "2022-09-06T09:12:42.749828",
     "status": "completed"
    },
    "tags": []
   },
   "outputs": [
    {
     "name": "stdout",
     "output_type": "stream",
     "text": [
      "/kaggle/input/titanic/train.csv\n",
      "/kaggle/input/titanic/test.csv\n",
      "/kaggle/input/titanic/gender_submission.csv\n"
     ]
    }
   ],
   "source": [
    "import numpy as np # linear algebra\n",
    "import pandas as pd # data processing, CSV file I/O (e.g. pd.read_csv)\n",
    "\n",
    "# Input data files are available in the read-only \"../input/\" directory\n",
    "# For example, running this (by clicking run or pressing Shift+Enter) will list all files under the input directory\n",
    "\n",
    "import os\n",
    "for dirname, _, filenames in os.walk('/kaggle/input'):\n",
    "    for filename in filenames:\n",
    "        print(os.path.join(dirname, filename))\n"
   ]
  },
  {
   "cell_type": "code",
   "execution_count": 2,
   "id": "42161e60",
   "metadata": {
    "execution": {
     "iopub.execute_input": "2022-09-06T09:12:42.799263Z",
     "iopub.status.busy": "2022-09-06T09:12:42.798036Z",
     "iopub.status.idle": "2022-09-06T09:12:43.926467Z",
     "shell.execute_reply": "2022-09-06T09:12:43.924988Z"
    },
    "papermill": {
     "duration": 1.141274,
     "end_time": "2022-09-06T09:12:43.929954",
     "exception": false,
     "start_time": "2022-09-06T09:12:42.788680",
     "status": "completed"
    },
    "tags": []
   },
   "outputs": [
    {
     "name": "stdout",
     "output_type": "stream",
     "text": [
      "__notebook__.ipynb\r\n"
     ]
    }
   ],
   "source": [
    "ls"
   ]
  },
  {
   "cell_type": "code",
   "execution_count": 3,
   "id": "8906fee6",
   "metadata": {
    "execution": {
     "iopub.execute_input": "2022-09-06T09:12:43.956880Z",
     "iopub.status.busy": "2022-09-06T09:12:43.956447Z",
     "iopub.status.idle": "2022-09-06T09:12:44.009549Z",
     "shell.execute_reply": "2022-09-06T09:12:44.008423Z"
    },
    "papermill": {
     "duration": 0.071637,
     "end_time": "2022-09-06T09:12:44.012090",
     "exception": false,
     "start_time": "2022-09-06T09:12:43.940453",
     "status": "completed"
    },
    "tags": []
   },
   "outputs": [
    {
     "data": {
      "text/html": [
       "<div>\n",
       "<style scoped>\n",
       "    .dataframe tbody tr th:only-of-type {\n",
       "        vertical-align: middle;\n",
       "    }\n",
       "\n",
       "    .dataframe tbody tr th {\n",
       "        vertical-align: top;\n",
       "    }\n",
       "\n",
       "    .dataframe thead th {\n",
       "        text-align: right;\n",
       "    }\n",
       "</style>\n",
       "<table border=\"1\" class=\"dataframe\">\n",
       "  <thead>\n",
       "    <tr style=\"text-align: right;\">\n",
       "      <th></th>\n",
       "      <th>PassengerId</th>\n",
       "      <th>Survived</th>\n",
       "      <th>Pclass</th>\n",
       "      <th>Name</th>\n",
       "      <th>Sex</th>\n",
       "      <th>Age</th>\n",
       "      <th>SibSp</th>\n",
       "      <th>Parch</th>\n",
       "      <th>Ticket</th>\n",
       "      <th>Fare</th>\n",
       "      <th>Cabin</th>\n",
       "      <th>Embarked</th>\n",
       "    </tr>\n",
       "  </thead>\n",
       "  <tbody>\n",
       "    <tr>\n",
       "      <th>0</th>\n",
       "      <td>1</td>\n",
       "      <td>0</td>\n",
       "      <td>3</td>\n",
       "      <td>Braund, Mr. Owen Harris</td>\n",
       "      <td>male</td>\n",
       "      <td>22.0</td>\n",
       "      <td>1</td>\n",
       "      <td>0</td>\n",
       "      <td>A/5 21171</td>\n",
       "      <td>7.2500</td>\n",
       "      <td>NaN</td>\n",
       "      <td>S</td>\n",
       "    </tr>\n",
       "    <tr>\n",
       "      <th>1</th>\n",
       "      <td>2</td>\n",
       "      <td>1</td>\n",
       "      <td>1</td>\n",
       "      <td>Cumings, Mrs. John Bradley (Florence Briggs Th...</td>\n",
       "      <td>female</td>\n",
       "      <td>38.0</td>\n",
       "      <td>1</td>\n",
       "      <td>0</td>\n",
       "      <td>PC 17599</td>\n",
       "      <td>71.2833</td>\n",
       "      <td>C85</td>\n",
       "      <td>C</td>\n",
       "    </tr>\n",
       "    <tr>\n",
       "      <th>2</th>\n",
       "      <td>3</td>\n",
       "      <td>1</td>\n",
       "      <td>3</td>\n",
       "      <td>Heikkinen, Miss. Laina</td>\n",
       "      <td>female</td>\n",
       "      <td>26.0</td>\n",
       "      <td>0</td>\n",
       "      <td>0</td>\n",
       "      <td>STON/O2. 3101282</td>\n",
       "      <td>7.9250</td>\n",
       "      <td>NaN</td>\n",
       "      <td>S</td>\n",
       "    </tr>\n",
       "  </tbody>\n",
       "</table>\n",
       "</div>"
      ],
      "text/plain": [
       "   PassengerId  Survived  Pclass  \\\n",
       "0            1         0       3   \n",
       "1            2         1       1   \n",
       "2            3         1       3   \n",
       "\n",
       "                                                Name     Sex   Age  SibSp  \\\n",
       "0                            Braund, Mr. Owen Harris    male  22.0      1   \n",
       "1  Cumings, Mrs. John Bradley (Florence Briggs Th...  female  38.0      1   \n",
       "2                             Heikkinen, Miss. Laina  female  26.0      0   \n",
       "\n",
       "   Parch            Ticket     Fare Cabin Embarked  \n",
       "0      0         A/5 21171   7.2500   NaN        S  \n",
       "1      0          PC 17599  71.2833   C85        C  \n",
       "2      0  STON/O2. 3101282   7.9250   NaN        S  "
      ]
     },
     "execution_count": 3,
     "metadata": {},
     "output_type": "execute_result"
    }
   ],
   "source": [
    "train_data = pd.read_csv(\"/kaggle/input/titanic/train.csv\")\n",
    "train_data.head(3)"
   ]
  },
  {
   "cell_type": "code",
   "execution_count": 4,
   "id": "a6097883",
   "metadata": {
    "execution": {
     "iopub.execute_input": "2022-09-06T09:12:44.032468Z",
     "iopub.status.busy": "2022-09-06T09:12:44.031374Z",
     "iopub.status.idle": "2022-09-06T09:12:44.056650Z",
     "shell.execute_reply": "2022-09-06T09:12:44.055596Z"
    },
    "papermill": {
     "duration": 0.038179,
     "end_time": "2022-09-06T09:12:44.059385",
     "exception": false,
     "start_time": "2022-09-06T09:12:44.021206",
     "status": "completed"
    },
    "tags": []
   },
   "outputs": [
    {
     "data": {
      "text/html": [
       "<div>\n",
       "<style scoped>\n",
       "    .dataframe tbody tr th:only-of-type {\n",
       "        vertical-align: middle;\n",
       "    }\n",
       "\n",
       "    .dataframe tbody tr th {\n",
       "        vertical-align: top;\n",
       "    }\n",
       "\n",
       "    .dataframe thead th {\n",
       "        text-align: right;\n",
       "    }\n",
       "</style>\n",
       "<table border=\"1\" class=\"dataframe\">\n",
       "  <thead>\n",
       "    <tr style=\"text-align: right;\">\n",
       "      <th></th>\n",
       "      <th>PassengerId</th>\n",
       "      <th>Pclass</th>\n",
       "      <th>Name</th>\n",
       "      <th>Sex</th>\n",
       "      <th>Age</th>\n",
       "      <th>SibSp</th>\n",
       "      <th>Parch</th>\n",
       "      <th>Ticket</th>\n",
       "      <th>Fare</th>\n",
       "      <th>Cabin</th>\n",
       "      <th>Embarked</th>\n",
       "    </tr>\n",
       "  </thead>\n",
       "  <tbody>\n",
       "    <tr>\n",
       "      <th>0</th>\n",
       "      <td>892</td>\n",
       "      <td>3</td>\n",
       "      <td>Kelly, Mr. James</td>\n",
       "      <td>male</td>\n",
       "      <td>34.5</td>\n",
       "      <td>0</td>\n",
       "      <td>0</td>\n",
       "      <td>330911</td>\n",
       "      <td>7.8292</td>\n",
       "      <td>NaN</td>\n",
       "      <td>Q</td>\n",
       "    </tr>\n",
       "    <tr>\n",
       "      <th>1</th>\n",
       "      <td>893</td>\n",
       "      <td>3</td>\n",
       "      <td>Wilkes, Mrs. James (Ellen Needs)</td>\n",
       "      <td>female</td>\n",
       "      <td>47.0</td>\n",
       "      <td>1</td>\n",
       "      <td>0</td>\n",
       "      <td>363272</td>\n",
       "      <td>7.0000</td>\n",
       "      <td>NaN</td>\n",
       "      <td>S</td>\n",
       "    </tr>\n",
       "    <tr>\n",
       "      <th>2</th>\n",
       "      <td>894</td>\n",
       "      <td>2</td>\n",
       "      <td>Myles, Mr. Thomas Francis</td>\n",
       "      <td>male</td>\n",
       "      <td>62.0</td>\n",
       "      <td>0</td>\n",
       "      <td>0</td>\n",
       "      <td>240276</td>\n",
       "      <td>9.6875</td>\n",
       "      <td>NaN</td>\n",
       "      <td>Q</td>\n",
       "    </tr>\n",
       "    <tr>\n",
       "      <th>3</th>\n",
       "      <td>895</td>\n",
       "      <td>3</td>\n",
       "      <td>Wirz, Mr. Albert</td>\n",
       "      <td>male</td>\n",
       "      <td>27.0</td>\n",
       "      <td>0</td>\n",
       "      <td>0</td>\n",
       "      <td>315154</td>\n",
       "      <td>8.6625</td>\n",
       "      <td>NaN</td>\n",
       "      <td>S</td>\n",
       "    </tr>\n",
       "    <tr>\n",
       "      <th>4</th>\n",
       "      <td>896</td>\n",
       "      <td>3</td>\n",
       "      <td>Hirvonen, Mrs. Alexander (Helga E Lindqvist)</td>\n",
       "      <td>female</td>\n",
       "      <td>22.0</td>\n",
       "      <td>1</td>\n",
       "      <td>1</td>\n",
       "      <td>3101298</td>\n",
       "      <td>12.2875</td>\n",
       "      <td>NaN</td>\n",
       "      <td>S</td>\n",
       "    </tr>\n",
       "  </tbody>\n",
       "</table>\n",
       "</div>"
      ],
      "text/plain": [
       "   PassengerId  Pclass                                          Name     Sex  \\\n",
       "0          892       3                              Kelly, Mr. James    male   \n",
       "1          893       3              Wilkes, Mrs. James (Ellen Needs)  female   \n",
       "2          894       2                     Myles, Mr. Thomas Francis    male   \n",
       "3          895       3                              Wirz, Mr. Albert    male   \n",
       "4          896       3  Hirvonen, Mrs. Alexander (Helga E Lindqvist)  female   \n",
       "\n",
       "    Age  SibSp  Parch   Ticket     Fare Cabin Embarked  \n",
       "0  34.5      0      0   330911   7.8292   NaN        Q  \n",
       "1  47.0      1      0   363272   7.0000   NaN        S  \n",
       "2  62.0      0      0   240276   9.6875   NaN        Q  \n",
       "3  27.0      0      0   315154   8.6625   NaN        S  \n",
       "4  22.0      1      1  3101298  12.2875   NaN        S  "
      ]
     },
     "execution_count": 4,
     "metadata": {},
     "output_type": "execute_result"
    }
   ],
   "source": [
    "test_data = pd.read_csv(\"/kaggle/input/titanic/test.csv\")\n",
    "test_data.head()"
   ]
  },
  {
   "cell_type": "code",
   "execution_count": 5,
   "id": "9e2b4906",
   "metadata": {
    "execution": {
     "iopub.execute_input": "2022-09-06T09:12:44.079092Z",
     "iopub.status.busy": "2022-09-06T09:12:44.077999Z",
     "iopub.status.idle": "2022-09-06T09:12:45.354660Z",
     "shell.execute_reply": "2022-09-06T09:12:45.353496Z"
    },
    "papermill": {
     "duration": 1.289516,
     "end_time": "2022-09-06T09:12:45.357695",
     "exception": false,
     "start_time": "2022-09-06T09:12:44.068179",
     "status": "completed"
    },
    "tags": []
   },
   "outputs": [],
   "source": [
    "import matplotlib.pyplot as plt\n",
    "import numpy as np\n",
    "from sklearn.linear_model import LogisticRegression\n",
    "from sklearn.metrics import classification_report, confusion_matrix\n",
    "from sklearn.model_selection import train_test_split  \n",
    "from sklearn.preprocessing import LabelEncoder \n",
    "from sklearn.preprocessing import StandardScaler    \n",
    "st_x= StandardScaler() "
   ]
  },
  {
   "cell_type": "code",
   "execution_count": 6,
   "id": "8d7d9b16",
   "metadata": {
    "execution": {
     "iopub.execute_input": "2022-09-06T09:12:45.376401Z",
     "iopub.status.busy": "2022-09-06T09:12:45.375949Z",
     "iopub.status.idle": "2022-09-06T09:12:45.395203Z",
     "shell.execute_reply": "2022-09-06T09:12:45.394291Z"
    },
    "papermill": {
     "duration": 0.031203,
     "end_time": "2022-09-06T09:12:45.397481",
     "exception": false,
     "start_time": "2022-09-06T09:12:45.366278",
     "status": "completed"
    },
    "tags": []
   },
   "outputs": [
    {
     "data": {
      "text/html": [
       "<div>\n",
       "<style scoped>\n",
       "    .dataframe tbody tr th:only-of-type {\n",
       "        vertical-align: middle;\n",
       "    }\n",
       "\n",
       "    .dataframe tbody tr th {\n",
       "        vertical-align: top;\n",
       "    }\n",
       "\n",
       "    .dataframe thead th {\n",
       "        text-align: right;\n",
       "    }\n",
       "</style>\n",
       "<table border=\"1\" class=\"dataframe\">\n",
       "  <thead>\n",
       "    <tr style=\"text-align: right;\">\n",
       "      <th></th>\n",
       "      <th>Survived</th>\n",
       "      <th>Pclass</th>\n",
       "      <th>Sex</th>\n",
       "      <th>Age</th>\n",
       "      <th>SibSp</th>\n",
       "      <th>Parch</th>\n",
       "      <th>Fare</th>\n",
       "      <th>Embarked</th>\n",
       "    </tr>\n",
       "  </thead>\n",
       "  <tbody>\n",
       "    <tr>\n",
       "      <th>0</th>\n",
       "      <td>0</td>\n",
       "      <td>3</td>\n",
       "      <td>male</td>\n",
       "      <td>22.0</td>\n",
       "      <td>1</td>\n",
       "      <td>0</td>\n",
       "      <td>7.2500</td>\n",
       "      <td>S</td>\n",
       "    </tr>\n",
       "    <tr>\n",
       "      <th>1</th>\n",
       "      <td>1</td>\n",
       "      <td>1</td>\n",
       "      <td>female</td>\n",
       "      <td>38.0</td>\n",
       "      <td>1</td>\n",
       "      <td>0</td>\n",
       "      <td>71.2833</td>\n",
       "      <td>C</td>\n",
       "    </tr>\n",
       "    <tr>\n",
       "      <th>2</th>\n",
       "      <td>1</td>\n",
       "      <td>3</td>\n",
       "      <td>female</td>\n",
       "      <td>26.0</td>\n",
       "      <td>0</td>\n",
       "      <td>0</td>\n",
       "      <td>7.9250</td>\n",
       "      <td>S</td>\n",
       "    </tr>\n",
       "    <tr>\n",
       "      <th>3</th>\n",
       "      <td>1</td>\n",
       "      <td>1</td>\n",
       "      <td>female</td>\n",
       "      <td>35.0</td>\n",
       "      <td>1</td>\n",
       "      <td>0</td>\n",
       "      <td>53.1000</td>\n",
       "      <td>S</td>\n",
       "    </tr>\n",
       "    <tr>\n",
       "      <th>4</th>\n",
       "      <td>0</td>\n",
       "      <td>3</td>\n",
       "      <td>male</td>\n",
       "      <td>35.0</td>\n",
       "      <td>0</td>\n",
       "      <td>0</td>\n",
       "      <td>8.0500</td>\n",
       "      <td>S</td>\n",
       "    </tr>\n",
       "  </tbody>\n",
       "</table>\n",
       "</div>"
      ],
      "text/plain": [
       "   Survived  Pclass     Sex   Age  SibSp  Parch     Fare Embarked\n",
       "0         0       3    male  22.0      1      0   7.2500        S\n",
       "1         1       1  female  38.0      1      0  71.2833        C\n",
       "2         1       3  female  26.0      0      0   7.9250        S\n",
       "3         1       1  female  35.0      1      0  53.1000        S\n",
       "4         0       3    male  35.0      0      0   8.0500        S"
      ]
     },
     "execution_count": 6,
     "metadata": {},
     "output_type": "execute_result"
    }
   ],
   "source": [
    "xi = train_data.iloc[:,[1,2,4,5,6,7,9,11]]\n",
    "xi.head()"
   ]
  },
  {
   "cell_type": "code",
   "execution_count": 7,
   "id": "a1c84a3a",
   "metadata": {
    "execution": {
     "iopub.execute_input": "2022-09-06T09:12:45.416926Z",
     "iopub.status.busy": "2022-09-06T09:12:45.416516Z",
     "iopub.status.idle": "2022-09-06T09:12:45.437829Z",
     "shell.execute_reply": "2022-09-06T09:12:45.436578Z"
    },
    "papermill": {
     "duration": 0.034435,
     "end_time": "2022-09-06T09:12:45.440574",
     "exception": false,
     "start_time": "2022-09-06T09:12:45.406139",
     "status": "completed"
    },
    "tags": []
   },
   "outputs": [
    {
     "name": "stderr",
     "output_type": "stream",
     "text": [
      "/opt/conda/lib/python3.7/site-packages/pandas/core/frame.py:3641: SettingWithCopyWarning: \n",
      "A value is trying to be set on a copy of a slice from a DataFrame.\n",
      "Try using .loc[row_indexer,col_indexer] = value instead\n",
      "\n",
      "See the caveats in the documentation: https://pandas.pydata.org/pandas-docs/stable/user_guide/indexing.html#returning-a-view-versus-a-copy\n",
      "  self[k1] = value[k2]\n"
     ]
    }
   ],
   "source": [
    "xi[['Pclass','Age','SibSp','Parch','Fare']] = xi[['Pclass','Age','SibSp','Parch','Fare']].fillna(0)"
   ]
  },
  {
   "cell_type": "code",
   "execution_count": 8,
   "id": "a795132c",
   "metadata": {
    "execution": {
     "iopub.execute_input": "2022-09-06T09:12:45.461388Z",
     "iopub.status.busy": "2022-09-06T09:12:45.460590Z",
     "iopub.status.idle": "2022-09-06T09:12:45.466016Z",
     "shell.execute_reply": "2022-09-06T09:12:45.465211Z"
    },
    "papermill": {
     "duration": 0.017936,
     "end_time": "2022-09-06T09:12:45.468349",
     "exception": false,
     "start_time": "2022-09-06T09:12:45.450413",
     "status": "completed"
    },
    "tags": []
   },
   "outputs": [],
   "source": [
    "y = xi.iloc[:,0].values"
   ]
  },
  {
   "cell_type": "code",
   "execution_count": 9,
   "id": "dc33ad27",
   "metadata": {
    "execution": {
     "iopub.execute_input": "2022-09-06T09:12:45.488007Z",
     "iopub.status.busy": "2022-09-06T09:12:45.487183Z",
     "iopub.status.idle": "2022-09-06T09:12:45.493227Z",
     "shell.execute_reply": "2022-09-06T09:12:45.492336Z"
    },
    "papermill": {
     "duration": 0.018634,
     "end_time": "2022-09-06T09:12:45.495618",
     "exception": false,
     "start_time": "2022-09-06T09:12:45.476984",
     "status": "completed"
    },
    "tags": []
   },
   "outputs": [],
   "source": [
    "x1 = xi.iloc[:,[1,2,3,4,5,6,7]]"
   ]
  },
  {
   "cell_type": "code",
   "execution_count": 10,
   "id": "322db954",
   "metadata": {
    "execution": {
     "iopub.execute_input": "2022-09-06T09:12:45.515527Z",
     "iopub.status.busy": "2022-09-06T09:12:45.514711Z",
     "iopub.status.idle": "2022-09-06T09:12:45.528486Z",
     "shell.execute_reply": "2022-09-06T09:12:45.527300Z"
    },
    "papermill": {
     "duration": 0.026574,
     "end_time": "2022-09-06T09:12:45.530897",
     "exception": false,
     "start_time": "2022-09-06T09:12:45.504323",
     "status": "completed"
    },
    "tags": []
   },
   "outputs": [
    {
     "data": {
      "text/html": [
       "<div>\n",
       "<style scoped>\n",
       "    .dataframe tbody tr th:only-of-type {\n",
       "        vertical-align: middle;\n",
       "    }\n",
       "\n",
       "    .dataframe tbody tr th {\n",
       "        vertical-align: top;\n",
       "    }\n",
       "\n",
       "    .dataframe thead th {\n",
       "        text-align: right;\n",
       "    }\n",
       "</style>\n",
       "<table border=\"1\" class=\"dataframe\">\n",
       "  <thead>\n",
       "    <tr style=\"text-align: right;\">\n",
       "      <th></th>\n",
       "      <th>Pclass</th>\n",
       "      <th>Sex</th>\n",
       "      <th>Age</th>\n",
       "      <th>SibSp</th>\n",
       "      <th>Parch</th>\n",
       "      <th>Fare</th>\n",
       "      <th>Embarked</th>\n",
       "    </tr>\n",
       "  </thead>\n",
       "  <tbody>\n",
       "    <tr>\n",
       "      <th>0</th>\n",
       "      <td>3</td>\n",
       "      <td>male</td>\n",
       "      <td>22.0</td>\n",
       "      <td>1</td>\n",
       "      <td>0</td>\n",
       "      <td>7.2500</td>\n",
       "      <td>S</td>\n",
       "    </tr>\n",
       "    <tr>\n",
       "      <th>1</th>\n",
       "      <td>1</td>\n",
       "      <td>female</td>\n",
       "      <td>38.0</td>\n",
       "      <td>1</td>\n",
       "      <td>0</td>\n",
       "      <td>71.2833</td>\n",
       "      <td>C</td>\n",
       "    </tr>\n",
       "    <tr>\n",
       "      <th>2</th>\n",
       "      <td>3</td>\n",
       "      <td>female</td>\n",
       "      <td>26.0</td>\n",
       "      <td>0</td>\n",
       "      <td>0</td>\n",
       "      <td>7.9250</td>\n",
       "      <td>S</td>\n",
       "    </tr>\n",
       "    <tr>\n",
       "      <th>3</th>\n",
       "      <td>1</td>\n",
       "      <td>female</td>\n",
       "      <td>35.0</td>\n",
       "      <td>1</td>\n",
       "      <td>0</td>\n",
       "      <td>53.1000</td>\n",
       "      <td>S</td>\n",
       "    </tr>\n",
       "    <tr>\n",
       "      <th>4</th>\n",
       "      <td>3</td>\n",
       "      <td>male</td>\n",
       "      <td>35.0</td>\n",
       "      <td>0</td>\n",
       "      <td>0</td>\n",
       "      <td>8.0500</td>\n",
       "      <td>S</td>\n",
       "    </tr>\n",
       "  </tbody>\n",
       "</table>\n",
       "</div>"
      ],
      "text/plain": [
       "   Pclass     Sex   Age  SibSp  Parch     Fare Embarked\n",
       "0       3    male  22.0      1      0   7.2500        S\n",
       "1       1  female  38.0      1      0  71.2833        C\n",
       "2       3  female  26.0      0      0   7.9250        S\n",
       "3       1  female  35.0      1      0  53.1000        S\n",
       "4       3    male  35.0      0      0   8.0500        S"
      ]
     },
     "execution_count": 10,
     "metadata": {},
     "output_type": "execute_result"
    }
   ],
   "source": [
    "x1.head()"
   ]
  },
  {
   "cell_type": "code",
   "execution_count": 11,
   "id": "a4a0684f",
   "metadata": {
    "execution": {
     "iopub.execute_input": "2022-09-06T09:12:45.550776Z",
     "iopub.status.busy": "2022-09-06T09:12:45.550099Z",
     "iopub.status.idle": "2022-09-06T09:12:45.556391Z",
     "shell.execute_reply": "2022-09-06T09:12:45.555189Z"
    },
    "papermill": {
     "duration": 0.019023,
     "end_time": "2022-09-06T09:12:45.558917",
     "exception": false,
     "start_time": "2022-09-06T09:12:45.539894",
     "status": "completed"
    },
    "tags": []
   },
   "outputs": [],
   "source": [
    "le = LabelEncoder()\n",
    "label = le.fit_transform(x1['Sex'])\n"
   ]
  },
  {
   "cell_type": "code",
   "execution_count": 12,
   "id": "261f731d",
   "metadata": {
    "execution": {
     "iopub.execute_input": "2022-09-06T09:12:45.578925Z",
     "iopub.status.busy": "2022-09-06T09:12:45.578537Z",
     "iopub.status.idle": "2022-09-06T09:12:45.595943Z",
     "shell.execute_reply": "2022-09-06T09:12:45.594337Z"
    },
    "papermill": {
     "duration": 0.030499,
     "end_time": "2022-09-06T09:12:45.598416",
     "exception": false,
     "start_time": "2022-09-06T09:12:45.567917",
     "status": "completed"
    },
    "tags": []
   },
   "outputs": [
    {
     "name": "stderr",
     "output_type": "stream",
     "text": [
      "/opt/conda/lib/python3.7/site-packages/pandas/core/frame.py:4913: SettingWithCopyWarning: \n",
      "A value is trying to be set on a copy of a slice from a DataFrame\n",
      "\n",
      "See the caveats in the documentation: https://pandas.pydata.org/pandas-docs/stable/user_guide/indexing.html#returning-a-view-versus-a-copy\n",
      "  errors=errors,\n",
      "/opt/conda/lib/python3.7/site-packages/ipykernel_launcher.py:5: SettingWithCopyWarning: \n",
      "A value is trying to be set on a copy of a slice from a DataFrame.\n",
      "Try using .loc[row_indexer,col_indexer] = value instead\n",
      "\n",
      "See the caveats in the documentation: https://pandas.pydata.org/pandas-docs/stable/user_guide/indexing.html#returning-a-view-versus-a-copy\n",
      "  \"\"\"\n"
     ]
    },
    {
     "data": {
      "text/html": [
       "<div>\n",
       "<style scoped>\n",
       "    .dataframe tbody tr th:only-of-type {\n",
       "        vertical-align: middle;\n",
       "    }\n",
       "\n",
       "    .dataframe tbody tr th {\n",
       "        vertical-align: top;\n",
       "    }\n",
       "\n",
       "    .dataframe thead th {\n",
       "        text-align: right;\n",
       "    }\n",
       "</style>\n",
       "<table border=\"1\" class=\"dataframe\">\n",
       "  <thead>\n",
       "    <tr style=\"text-align: right;\">\n",
       "      <th></th>\n",
       "      <th>Pclass</th>\n",
       "      <th>Age</th>\n",
       "      <th>SibSp</th>\n",
       "      <th>Parch</th>\n",
       "      <th>Fare</th>\n",
       "      <th>Embarked</th>\n",
       "      <th>Sex</th>\n",
       "    </tr>\n",
       "  </thead>\n",
       "  <tbody>\n",
       "    <tr>\n",
       "      <th>0</th>\n",
       "      <td>3</td>\n",
       "      <td>22.0</td>\n",
       "      <td>1</td>\n",
       "      <td>0</td>\n",
       "      <td>7.2500</td>\n",
       "      <td>S</td>\n",
       "      <td>1</td>\n",
       "    </tr>\n",
       "    <tr>\n",
       "      <th>1</th>\n",
       "      <td>1</td>\n",
       "      <td>38.0</td>\n",
       "      <td>1</td>\n",
       "      <td>0</td>\n",
       "      <td>71.2833</td>\n",
       "      <td>C</td>\n",
       "      <td>0</td>\n",
       "    </tr>\n",
       "    <tr>\n",
       "      <th>2</th>\n",
       "      <td>3</td>\n",
       "      <td>26.0</td>\n",
       "      <td>0</td>\n",
       "      <td>0</td>\n",
       "      <td>7.9250</td>\n",
       "      <td>S</td>\n",
       "      <td>0</td>\n",
       "    </tr>\n",
       "    <tr>\n",
       "      <th>3</th>\n",
       "      <td>1</td>\n",
       "      <td>35.0</td>\n",
       "      <td>1</td>\n",
       "      <td>0</td>\n",
       "      <td>53.1000</td>\n",
       "      <td>S</td>\n",
       "      <td>0</td>\n",
       "    </tr>\n",
       "    <tr>\n",
       "      <th>4</th>\n",
       "      <td>3</td>\n",
       "      <td>35.0</td>\n",
       "      <td>0</td>\n",
       "      <td>0</td>\n",
       "      <td>8.0500</td>\n",
       "      <td>S</td>\n",
       "      <td>1</td>\n",
       "    </tr>\n",
       "  </tbody>\n",
       "</table>\n",
       "</div>"
      ],
      "text/plain": [
       "   Pclass   Age  SibSp  Parch     Fare Embarked  Sex\n",
       "0       3  22.0      1      0   7.2500        S    1\n",
       "1       1  38.0      1      0  71.2833        C    0\n",
       "2       3  26.0      0      0   7.9250        S    0\n",
       "3       1  35.0      1      0  53.1000        S    0\n",
       "4       3  35.0      0      0   8.0500        S    1"
      ]
     },
     "execution_count": 12,
     "metadata": {},
     "output_type": "execute_result"
    }
   ],
   "source": [
    "x1.drop(\"Sex\", axis=1, inplace=True)\n",
    " \n",
    "# Appending the array to our dataFrame\n",
    "# with column name 'Purchased'\n",
    "x1[\"Sex\"] = label\n",
    " \n",
    "# printing Dataframe\n",
    "x1.head()"
   ]
  },
  {
   "cell_type": "code",
   "execution_count": 13,
   "id": "d31d2436",
   "metadata": {
    "execution": {
     "iopub.execute_input": "2022-09-06T09:12:45.619000Z",
     "iopub.status.busy": "2022-09-06T09:12:45.618288Z",
     "iopub.status.idle": "2022-09-06T09:12:45.623560Z",
     "shell.execute_reply": "2022-09-06T09:12:45.622511Z"
    },
    "papermill": {
     "duration": 0.01819,
     "end_time": "2022-09-06T09:12:45.625773",
     "exception": false,
     "start_time": "2022-09-06T09:12:45.607583",
     "status": "completed"
    },
    "tags": []
   },
   "outputs": [],
   "source": [
    "le = LabelEncoder()\n",
    "label = le.fit_transform(x1['Embarked'])\n"
   ]
  },
  {
   "cell_type": "code",
   "execution_count": 14,
   "id": "f60dd286",
   "metadata": {
    "execution": {
     "iopub.execute_input": "2022-09-06T09:12:45.646508Z",
     "iopub.status.busy": "2022-09-06T09:12:45.646085Z",
     "iopub.status.idle": "2022-09-06T09:12:45.663049Z",
     "shell.execute_reply": "2022-09-06T09:12:45.661020Z"
    },
    "papermill": {
     "duration": 0.031025,
     "end_time": "2022-09-06T09:12:45.666409",
     "exception": false,
     "start_time": "2022-09-06T09:12:45.635384",
     "status": "completed"
    },
    "tags": []
   },
   "outputs": [
    {
     "name": "stderr",
     "output_type": "stream",
     "text": [
      "/opt/conda/lib/python3.7/site-packages/pandas/core/frame.py:4913: SettingWithCopyWarning: \n",
      "A value is trying to be set on a copy of a slice from a DataFrame\n",
      "\n",
      "See the caveats in the documentation: https://pandas.pydata.org/pandas-docs/stable/user_guide/indexing.html#returning-a-view-versus-a-copy\n",
      "  errors=errors,\n",
      "/opt/conda/lib/python3.7/site-packages/ipykernel_launcher.py:5: SettingWithCopyWarning: \n",
      "A value is trying to be set on a copy of a slice from a DataFrame.\n",
      "Try using .loc[row_indexer,col_indexer] = value instead\n",
      "\n",
      "See the caveats in the documentation: https://pandas.pydata.org/pandas-docs/stable/user_guide/indexing.html#returning-a-view-versus-a-copy\n",
      "  \"\"\"\n"
     ]
    },
    {
     "data": {
      "text/html": [
       "<div>\n",
       "<style scoped>\n",
       "    .dataframe tbody tr th:only-of-type {\n",
       "        vertical-align: middle;\n",
       "    }\n",
       "\n",
       "    .dataframe tbody tr th {\n",
       "        vertical-align: top;\n",
       "    }\n",
       "\n",
       "    .dataframe thead th {\n",
       "        text-align: right;\n",
       "    }\n",
       "</style>\n",
       "<table border=\"1\" class=\"dataframe\">\n",
       "  <thead>\n",
       "    <tr style=\"text-align: right;\">\n",
       "      <th></th>\n",
       "      <th>Pclass</th>\n",
       "      <th>Age</th>\n",
       "      <th>SibSp</th>\n",
       "      <th>Parch</th>\n",
       "      <th>Fare</th>\n",
       "      <th>Sex</th>\n",
       "      <th>Embarked</th>\n",
       "    </tr>\n",
       "  </thead>\n",
       "  <tbody>\n",
       "    <tr>\n",
       "      <th>0</th>\n",
       "      <td>3</td>\n",
       "      <td>22.0</td>\n",
       "      <td>1</td>\n",
       "      <td>0</td>\n",
       "      <td>7.2500</td>\n",
       "      <td>1</td>\n",
       "      <td>2</td>\n",
       "    </tr>\n",
       "    <tr>\n",
       "      <th>1</th>\n",
       "      <td>1</td>\n",
       "      <td>38.0</td>\n",
       "      <td>1</td>\n",
       "      <td>0</td>\n",
       "      <td>71.2833</td>\n",
       "      <td>0</td>\n",
       "      <td>0</td>\n",
       "    </tr>\n",
       "    <tr>\n",
       "      <th>2</th>\n",
       "      <td>3</td>\n",
       "      <td>26.0</td>\n",
       "      <td>0</td>\n",
       "      <td>0</td>\n",
       "      <td>7.9250</td>\n",
       "      <td>0</td>\n",
       "      <td>2</td>\n",
       "    </tr>\n",
       "    <tr>\n",
       "      <th>3</th>\n",
       "      <td>1</td>\n",
       "      <td>35.0</td>\n",
       "      <td>1</td>\n",
       "      <td>0</td>\n",
       "      <td>53.1000</td>\n",
       "      <td>0</td>\n",
       "      <td>2</td>\n",
       "    </tr>\n",
       "    <tr>\n",
       "      <th>4</th>\n",
       "      <td>3</td>\n",
       "      <td>35.0</td>\n",
       "      <td>0</td>\n",
       "      <td>0</td>\n",
       "      <td>8.0500</td>\n",
       "      <td>1</td>\n",
       "      <td>2</td>\n",
       "    </tr>\n",
       "  </tbody>\n",
       "</table>\n",
       "</div>"
      ],
      "text/plain": [
       "   Pclass   Age  SibSp  Parch     Fare  Sex  Embarked\n",
       "0       3  22.0      1      0   7.2500    1         2\n",
       "1       1  38.0      1      0  71.2833    0         0\n",
       "2       3  26.0      0      0   7.9250    0         2\n",
       "3       1  35.0      1      0  53.1000    0         2\n",
       "4       3  35.0      0      0   8.0500    1         2"
      ]
     },
     "execution_count": 14,
     "metadata": {},
     "output_type": "execute_result"
    }
   ],
   "source": [
    "x1.drop(\"Embarked\", axis=1, inplace=True)\n",
    " \n",
    "# Appending the array to our dataFrame\n",
    "# with column name 'Purchased'\n",
    "x1[\"Embarked\"] = label\n",
    " \n",
    "# printing Dataframe\n",
    "x1.head()"
   ]
  },
  {
   "cell_type": "code",
   "execution_count": 15,
   "id": "a5decf6d",
   "metadata": {
    "execution": {
     "iopub.execute_input": "2022-09-06T09:12:45.688088Z",
     "iopub.status.busy": "2022-09-06T09:12:45.687287Z",
     "iopub.status.idle": "2022-09-06T09:12:45.694916Z",
     "shell.execute_reply": "2022-09-06T09:12:45.693769Z"
    },
    "papermill": {
     "duration": 0.022194,
     "end_time": "2022-09-06T09:12:45.698577",
     "exception": false,
     "start_time": "2022-09-06T09:12:45.676383",
     "status": "completed"
    },
    "tags": []
   },
   "outputs": [
    {
     "name": "stderr",
     "output_type": "stream",
     "text": [
      "/opt/conda/lib/python3.7/site-packages/ipykernel_launcher.py:1: SettingWithCopyWarning: \n",
      "A value is trying to be set on a copy of a slice from a DataFrame.\n",
      "Try using .loc[row_indexer,col_indexer] = value instead\n",
      "\n",
      "See the caveats in the documentation: https://pandas.pydata.org/pandas-docs/stable/user_guide/indexing.html#returning-a-view-versus-a-copy\n",
      "  \"\"\"Entry point for launching an IPython kernel.\n"
     ]
    }
   ],
   "source": [
    "x1[\"Age\"]=x1[\"Age\"].astype(int)"
   ]
  },
  {
   "cell_type": "code",
   "execution_count": 16,
   "id": "70656367",
   "metadata": {
    "execution": {
     "iopub.execute_input": "2022-09-06T09:12:45.721887Z",
     "iopub.status.busy": "2022-09-06T09:12:45.720887Z",
     "iopub.status.idle": "2022-09-06T09:12:45.726202Z",
     "shell.execute_reply": "2022-09-06T09:12:45.725321Z"
    },
    "papermill": {
     "duration": 0.01962,
     "end_time": "2022-09-06T09:12:45.728727",
     "exception": false,
     "start_time": "2022-09-06T09:12:45.709107",
     "status": "completed"
    },
    "tags": []
   },
   "outputs": [],
   "source": [
    "x = x1.values"
   ]
  },
  {
   "cell_type": "code",
   "execution_count": 17,
   "id": "29559daa",
   "metadata": {
    "execution": {
     "iopub.execute_input": "2022-09-06T09:12:45.750997Z",
     "iopub.status.busy": "2022-09-06T09:12:45.750268Z",
     "iopub.status.idle": "2022-09-06T09:12:45.758410Z",
     "shell.execute_reply": "2022-09-06T09:12:45.757183Z"
    },
    "papermill": {
     "duration": 0.022025,
     "end_time": "2022-09-06T09:12:45.760853",
     "exception": false,
     "start_time": "2022-09-06T09:12:45.738828",
     "status": "completed"
    },
    "tags": []
   },
   "outputs": [
    {
     "data": {
      "text/plain": [
       "array([[ 3.    , 22.    ,  1.    ,  0.    ,  7.25  ,  1.    ,  2.    ],\n",
       "       [ 1.    , 38.    ,  1.    ,  0.    , 71.2833,  0.    ,  0.    ],\n",
       "       [ 3.    , 26.    ,  0.    ,  0.    ,  7.925 ,  0.    ,  2.    ],\n",
       "       [ 1.    , 35.    ,  1.    ,  0.    , 53.1   ,  0.    ,  2.    ],\n",
       "       [ 3.    , 35.    ,  0.    ,  0.    ,  8.05  ,  1.    ,  2.    ]])"
      ]
     },
     "execution_count": 17,
     "metadata": {},
     "output_type": "execute_result"
    }
   ],
   "source": [
    "x[0:5,]"
   ]
  },
  {
   "cell_type": "code",
   "execution_count": 18,
   "id": "566d66e3",
   "metadata": {
    "execution": {
     "iopub.execute_input": "2022-09-06T09:12:45.782497Z",
     "iopub.status.busy": "2022-09-06T09:12:45.782068Z",
     "iopub.status.idle": "2022-09-06T09:12:45.788119Z",
     "shell.execute_reply": "2022-09-06T09:12:45.787158Z"
    },
    "papermill": {
     "duration": 0.019868,
     "end_time": "2022-09-06T09:12:45.790657",
     "exception": false,
     "start_time": "2022-09-06T09:12:45.770789",
     "status": "completed"
    },
    "tags": []
   },
   "outputs": [],
   "source": [
    "x_train= st_x.fit_transform(x)   "
   ]
  },
  {
   "cell_type": "code",
   "execution_count": 19,
   "id": "2c72eea2",
   "metadata": {
    "execution": {
     "iopub.execute_input": "2022-09-06T09:12:45.812513Z",
     "iopub.status.busy": "2022-09-06T09:12:45.811754Z",
     "iopub.status.idle": "2022-09-06T09:12:45.817122Z",
     "shell.execute_reply": "2022-09-06T09:12:45.816227Z"
    },
    "papermill": {
     "duration": 0.018979,
     "end_time": "2022-09-06T09:12:45.819593",
     "exception": false,
     "start_time": "2022-09-06T09:12:45.800614",
     "status": "completed"
    },
    "tags": []
   },
   "outputs": [],
   "source": [
    "model = LogisticRegression(solver='liblinear',C = 1, random_state=0) "
   ]
  },
  {
   "cell_type": "code",
   "execution_count": 20,
   "id": "cd8de22b",
   "metadata": {
    "execution": {
     "iopub.execute_input": "2022-09-06T09:12:45.841492Z",
     "iopub.status.busy": "2022-09-06T09:12:45.841072Z",
     "iopub.status.idle": "2022-09-06T09:12:45.853662Z",
     "shell.execute_reply": "2022-09-06T09:12:45.852254Z"
    },
    "papermill": {
     "duration": 0.02654,
     "end_time": "2022-09-06T09:12:45.856149",
     "exception": false,
     "start_time": "2022-09-06T09:12:45.829609",
     "status": "completed"
    },
    "tags": []
   },
   "outputs": [
    {
     "data": {
      "text/plain": [
       "LogisticRegression(C=1, random_state=0, solver='liblinear')"
      ]
     },
     "execution_count": 20,
     "metadata": {},
     "output_type": "execute_result"
    }
   ],
   "source": [
    "model.fit(x_train,y)"
   ]
  },
  {
   "cell_type": "code",
   "execution_count": 21,
   "id": "f1a09cc8",
   "metadata": {
    "execution": {
     "iopub.execute_input": "2022-09-06T09:12:45.877971Z",
     "iopub.status.busy": "2022-09-06T09:12:45.877152Z",
     "iopub.status.idle": "2022-09-06T09:12:45.892193Z",
     "shell.execute_reply": "2022-09-06T09:12:45.891019Z"
    },
    "papermill": {
     "duration": 0.028766,
     "end_time": "2022-09-06T09:12:45.894628",
     "exception": false,
     "start_time": "2022-09-06T09:12:45.865862",
     "status": "completed"
    },
    "tags": []
   },
   "outputs": [
    {
     "data": {
      "text/html": [
       "<div>\n",
       "<style scoped>\n",
       "    .dataframe tbody tr th:only-of-type {\n",
       "        vertical-align: middle;\n",
       "    }\n",
       "\n",
       "    .dataframe tbody tr th {\n",
       "        vertical-align: top;\n",
       "    }\n",
       "\n",
       "    .dataframe thead th {\n",
       "        text-align: right;\n",
       "    }\n",
       "</style>\n",
       "<table border=\"1\" class=\"dataframe\">\n",
       "  <thead>\n",
       "    <tr style=\"text-align: right;\">\n",
       "      <th></th>\n",
       "      <th>Pclass</th>\n",
       "      <th>Sex</th>\n",
       "      <th>Age</th>\n",
       "      <th>SibSp</th>\n",
       "      <th>Parch</th>\n",
       "      <th>Fare</th>\n",
       "      <th>Embarked</th>\n",
       "    </tr>\n",
       "  </thead>\n",
       "  <tbody>\n",
       "    <tr>\n",
       "      <th>0</th>\n",
       "      <td>3</td>\n",
       "      <td>male</td>\n",
       "      <td>34.5</td>\n",
       "      <td>0</td>\n",
       "      <td>0</td>\n",
       "      <td>7.8292</td>\n",
       "      <td>Q</td>\n",
       "    </tr>\n",
       "    <tr>\n",
       "      <th>1</th>\n",
       "      <td>3</td>\n",
       "      <td>female</td>\n",
       "      <td>47.0</td>\n",
       "      <td>1</td>\n",
       "      <td>0</td>\n",
       "      <td>7.0000</td>\n",
       "      <td>S</td>\n",
       "    </tr>\n",
       "    <tr>\n",
       "      <th>2</th>\n",
       "      <td>2</td>\n",
       "      <td>male</td>\n",
       "      <td>62.0</td>\n",
       "      <td>0</td>\n",
       "      <td>0</td>\n",
       "      <td>9.6875</td>\n",
       "      <td>Q</td>\n",
       "    </tr>\n",
       "    <tr>\n",
       "      <th>3</th>\n",
       "      <td>3</td>\n",
       "      <td>male</td>\n",
       "      <td>27.0</td>\n",
       "      <td>0</td>\n",
       "      <td>0</td>\n",
       "      <td>8.6625</td>\n",
       "      <td>S</td>\n",
       "    </tr>\n",
       "    <tr>\n",
       "      <th>4</th>\n",
       "      <td>3</td>\n",
       "      <td>female</td>\n",
       "      <td>22.0</td>\n",
       "      <td>1</td>\n",
       "      <td>1</td>\n",
       "      <td>12.2875</td>\n",
       "      <td>S</td>\n",
       "    </tr>\n",
       "  </tbody>\n",
       "</table>\n",
       "</div>"
      ],
      "text/plain": [
       "   Pclass     Sex   Age  SibSp  Parch     Fare Embarked\n",
       "0       3    male  34.5      0      0   7.8292        Q\n",
       "1       3  female  47.0      1      0   7.0000        S\n",
       "2       2    male  62.0      0      0   9.6875        Q\n",
       "3       3    male  27.0      0      0   8.6625        S\n",
       "4       3  female  22.0      1      1  12.2875        S"
      ]
     },
     "execution_count": 21,
     "metadata": {},
     "output_type": "execute_result"
    }
   ],
   "source": [
    "xii = test_data.iloc[:,[1,3,4,5,6,8,10]]\n",
    "xii.head()"
   ]
  },
  {
   "cell_type": "code",
   "execution_count": 22,
   "id": "391cc014",
   "metadata": {
    "execution": {
     "iopub.execute_input": "2022-09-06T09:12:45.917402Z",
     "iopub.status.busy": "2022-09-06T09:12:45.916621Z",
     "iopub.status.idle": "2022-09-06T09:12:45.925374Z",
     "shell.execute_reply": "2022-09-06T09:12:45.924301Z"
    },
    "papermill": {
     "duration": 0.022928,
     "end_time": "2022-09-06T09:12:45.927946",
     "exception": false,
     "start_time": "2022-09-06T09:12:45.905018",
     "status": "completed"
    },
    "tags": []
   },
   "outputs": [
    {
     "name": "stderr",
     "output_type": "stream",
     "text": [
      "/opt/conda/lib/python3.7/site-packages/pandas/core/frame.py:3641: SettingWithCopyWarning: \n",
      "A value is trying to be set on a copy of a slice from a DataFrame.\n",
      "Try using .loc[row_indexer,col_indexer] = value instead\n",
      "\n",
      "See the caveats in the documentation: https://pandas.pydata.org/pandas-docs/stable/user_guide/indexing.html#returning-a-view-versus-a-copy\n",
      "  self[k1] = value[k2]\n"
     ]
    }
   ],
   "source": [
    "xii[['Pclass','Age','SibSp','Parch','Fare']] = xii[['Pclass','Age','SibSp','Parch','Fare']].fillna(0)"
   ]
  },
  {
   "cell_type": "code",
   "execution_count": 23,
   "id": "1729d5dc",
   "metadata": {
    "execution": {
     "iopub.execute_input": "2022-09-06T09:12:45.950666Z",
     "iopub.status.busy": "2022-09-06T09:12:45.949375Z",
     "iopub.status.idle": "2022-09-06T09:12:45.955201Z",
     "shell.execute_reply": "2022-09-06T09:12:45.954418Z"
    },
    "papermill": {
     "duration": 0.019283,
     "end_time": "2022-09-06T09:12:45.957354",
     "exception": false,
     "start_time": "2022-09-06T09:12:45.938071",
     "status": "completed"
    },
    "tags": []
   },
   "outputs": [],
   "source": [
    "x2 = xii.iloc[:,[0,1,2,3,4,5,6]]"
   ]
  },
  {
   "cell_type": "code",
   "execution_count": 24,
   "id": "c9a32e73",
   "metadata": {
    "execution": {
     "iopub.execute_input": "2022-09-06T09:12:45.980014Z",
     "iopub.status.busy": "2022-09-06T09:12:45.979257Z",
     "iopub.status.idle": "2022-09-06T09:12:45.993098Z",
     "shell.execute_reply": "2022-09-06T09:12:45.991934Z"
    },
    "papermill": {
     "duration": 0.027851,
     "end_time": "2022-09-06T09:12:45.995424",
     "exception": false,
     "start_time": "2022-09-06T09:12:45.967573",
     "status": "completed"
    },
    "tags": []
   },
   "outputs": [
    {
     "data": {
      "text/html": [
       "<div>\n",
       "<style scoped>\n",
       "    .dataframe tbody tr th:only-of-type {\n",
       "        vertical-align: middle;\n",
       "    }\n",
       "\n",
       "    .dataframe tbody tr th {\n",
       "        vertical-align: top;\n",
       "    }\n",
       "\n",
       "    .dataframe thead th {\n",
       "        text-align: right;\n",
       "    }\n",
       "</style>\n",
       "<table border=\"1\" class=\"dataframe\">\n",
       "  <thead>\n",
       "    <tr style=\"text-align: right;\">\n",
       "      <th></th>\n",
       "      <th>Pclass</th>\n",
       "      <th>Sex</th>\n",
       "      <th>Age</th>\n",
       "      <th>SibSp</th>\n",
       "      <th>Parch</th>\n",
       "      <th>Fare</th>\n",
       "      <th>Embarked</th>\n",
       "    </tr>\n",
       "  </thead>\n",
       "  <tbody>\n",
       "    <tr>\n",
       "      <th>0</th>\n",
       "      <td>3</td>\n",
       "      <td>male</td>\n",
       "      <td>34.5</td>\n",
       "      <td>0</td>\n",
       "      <td>0</td>\n",
       "      <td>7.8292</td>\n",
       "      <td>Q</td>\n",
       "    </tr>\n",
       "    <tr>\n",
       "      <th>1</th>\n",
       "      <td>3</td>\n",
       "      <td>female</td>\n",
       "      <td>47.0</td>\n",
       "      <td>1</td>\n",
       "      <td>0</td>\n",
       "      <td>7.0000</td>\n",
       "      <td>S</td>\n",
       "    </tr>\n",
       "    <tr>\n",
       "      <th>2</th>\n",
       "      <td>2</td>\n",
       "      <td>male</td>\n",
       "      <td>62.0</td>\n",
       "      <td>0</td>\n",
       "      <td>0</td>\n",
       "      <td>9.6875</td>\n",
       "      <td>Q</td>\n",
       "    </tr>\n",
       "    <tr>\n",
       "      <th>3</th>\n",
       "      <td>3</td>\n",
       "      <td>male</td>\n",
       "      <td>27.0</td>\n",
       "      <td>0</td>\n",
       "      <td>0</td>\n",
       "      <td>8.6625</td>\n",
       "      <td>S</td>\n",
       "    </tr>\n",
       "    <tr>\n",
       "      <th>4</th>\n",
       "      <td>3</td>\n",
       "      <td>female</td>\n",
       "      <td>22.0</td>\n",
       "      <td>1</td>\n",
       "      <td>1</td>\n",
       "      <td>12.2875</td>\n",
       "      <td>S</td>\n",
       "    </tr>\n",
       "  </tbody>\n",
       "</table>\n",
       "</div>"
      ],
      "text/plain": [
       "   Pclass     Sex   Age  SibSp  Parch     Fare Embarked\n",
       "0       3    male  34.5      0      0   7.8292        Q\n",
       "1       3  female  47.0      1      0   7.0000        S\n",
       "2       2    male  62.0      0      0   9.6875        Q\n",
       "3       3    male  27.0      0      0   8.6625        S\n",
       "4       3  female  22.0      1      1  12.2875        S"
      ]
     },
     "execution_count": 24,
     "metadata": {},
     "output_type": "execute_result"
    }
   ],
   "source": [
    "x2.head()"
   ]
  },
  {
   "cell_type": "code",
   "execution_count": 25,
   "id": "6447d31e",
   "metadata": {
    "execution": {
     "iopub.execute_input": "2022-09-06T09:12:46.017855Z",
     "iopub.status.busy": "2022-09-06T09:12:46.017430Z",
     "iopub.status.idle": "2022-09-06T09:12:46.023038Z",
     "shell.execute_reply": "2022-09-06T09:12:46.022204Z"
    },
    "papermill": {
     "duration": 0.019479,
     "end_time": "2022-09-06T09:12:46.025182",
     "exception": false,
     "start_time": "2022-09-06T09:12:46.005703",
     "status": "completed"
    },
    "tags": []
   },
   "outputs": [],
   "source": [
    "le = LabelEncoder()\n",
    "label = le.fit_transform(x2['Sex'])\n"
   ]
  },
  {
   "cell_type": "code",
   "execution_count": 26,
   "id": "0f33be55",
   "metadata": {
    "execution": {
     "iopub.execute_input": "2022-09-06T09:12:46.047994Z",
     "iopub.status.busy": "2022-09-06T09:12:46.047256Z",
     "iopub.status.idle": "2022-09-06T09:12:46.063070Z",
     "shell.execute_reply": "2022-09-06T09:12:46.062177Z"
    },
    "papermill": {
     "duration": 0.03006,
     "end_time": "2022-09-06T09:12:46.065681",
     "exception": false,
     "start_time": "2022-09-06T09:12:46.035621",
     "status": "completed"
    },
    "tags": []
   },
   "outputs": [
    {
     "data": {
      "text/html": [
       "<div>\n",
       "<style scoped>\n",
       "    .dataframe tbody tr th:only-of-type {\n",
       "        vertical-align: middle;\n",
       "    }\n",
       "\n",
       "    .dataframe tbody tr th {\n",
       "        vertical-align: top;\n",
       "    }\n",
       "\n",
       "    .dataframe thead th {\n",
       "        text-align: right;\n",
       "    }\n",
       "</style>\n",
       "<table border=\"1\" class=\"dataframe\">\n",
       "  <thead>\n",
       "    <tr style=\"text-align: right;\">\n",
       "      <th></th>\n",
       "      <th>Pclass</th>\n",
       "      <th>Age</th>\n",
       "      <th>SibSp</th>\n",
       "      <th>Parch</th>\n",
       "      <th>Fare</th>\n",
       "      <th>Embarked</th>\n",
       "      <th>Sex</th>\n",
       "    </tr>\n",
       "  </thead>\n",
       "  <tbody>\n",
       "    <tr>\n",
       "      <th>0</th>\n",
       "      <td>3</td>\n",
       "      <td>34.5</td>\n",
       "      <td>0</td>\n",
       "      <td>0</td>\n",
       "      <td>7.8292</td>\n",
       "      <td>Q</td>\n",
       "      <td>1</td>\n",
       "    </tr>\n",
       "    <tr>\n",
       "      <th>1</th>\n",
       "      <td>3</td>\n",
       "      <td>47.0</td>\n",
       "      <td>1</td>\n",
       "      <td>0</td>\n",
       "      <td>7.0000</td>\n",
       "      <td>S</td>\n",
       "      <td>0</td>\n",
       "    </tr>\n",
       "    <tr>\n",
       "      <th>2</th>\n",
       "      <td>2</td>\n",
       "      <td>62.0</td>\n",
       "      <td>0</td>\n",
       "      <td>0</td>\n",
       "      <td>9.6875</td>\n",
       "      <td>Q</td>\n",
       "      <td>1</td>\n",
       "    </tr>\n",
       "    <tr>\n",
       "      <th>3</th>\n",
       "      <td>3</td>\n",
       "      <td>27.0</td>\n",
       "      <td>0</td>\n",
       "      <td>0</td>\n",
       "      <td>8.6625</td>\n",
       "      <td>S</td>\n",
       "      <td>1</td>\n",
       "    </tr>\n",
       "    <tr>\n",
       "      <th>4</th>\n",
       "      <td>3</td>\n",
       "      <td>22.0</td>\n",
       "      <td>1</td>\n",
       "      <td>1</td>\n",
       "      <td>12.2875</td>\n",
       "      <td>S</td>\n",
       "      <td>0</td>\n",
       "    </tr>\n",
       "  </tbody>\n",
       "</table>\n",
       "</div>"
      ],
      "text/plain": [
       "   Pclass   Age  SibSp  Parch     Fare Embarked  Sex\n",
       "0       3  34.5      0      0   7.8292        Q    1\n",
       "1       3  47.0      1      0   7.0000        S    0\n",
       "2       2  62.0      0      0   9.6875        Q    1\n",
       "3       3  27.0      0      0   8.6625        S    1\n",
       "4       3  22.0      1      1  12.2875        S    0"
      ]
     },
     "execution_count": 26,
     "metadata": {},
     "output_type": "execute_result"
    }
   ],
   "source": [
    "x2.drop(\"Sex\", axis=1, inplace=True)\n",
    " \n",
    "# Appending the array to our dataFrame\n",
    "# with column name 'Purchased'\n",
    "x2[\"Sex\"] = label\n",
    " \n",
    "# printing Dataframe\n",
    "x2.head()"
   ]
  },
  {
   "cell_type": "code",
   "execution_count": 27,
   "id": "2ab4fc4e",
   "metadata": {
    "execution": {
     "iopub.execute_input": "2022-09-06T09:12:46.088925Z",
     "iopub.status.busy": "2022-09-06T09:12:46.088141Z",
     "iopub.status.idle": "2022-09-06T09:12:46.093664Z",
     "shell.execute_reply": "2022-09-06T09:12:46.092771Z"
    },
    "papermill": {
     "duration": 0.019735,
     "end_time": "2022-09-06T09:12:46.096147",
     "exception": false,
     "start_time": "2022-09-06T09:12:46.076412",
     "status": "completed"
    },
    "tags": []
   },
   "outputs": [],
   "source": [
    "le = LabelEncoder()\n",
    "label = le.fit_transform(x2['Embarked'])\n"
   ]
  },
  {
   "cell_type": "code",
   "execution_count": 28,
   "id": "c35a8a05",
   "metadata": {
    "execution": {
     "iopub.execute_input": "2022-09-06T09:12:46.119474Z",
     "iopub.status.busy": "2022-09-06T09:12:46.119063Z",
     "iopub.status.idle": "2022-09-06T09:12:46.135575Z",
     "shell.execute_reply": "2022-09-06T09:12:46.134365Z"
    },
    "papermill": {
     "duration": 0.031131,
     "end_time": "2022-09-06T09:12:46.137926",
     "exception": false,
     "start_time": "2022-09-06T09:12:46.106795",
     "status": "completed"
    },
    "tags": []
   },
   "outputs": [
    {
     "data": {
      "text/html": [
       "<div>\n",
       "<style scoped>\n",
       "    .dataframe tbody tr th:only-of-type {\n",
       "        vertical-align: middle;\n",
       "    }\n",
       "\n",
       "    .dataframe tbody tr th {\n",
       "        vertical-align: top;\n",
       "    }\n",
       "\n",
       "    .dataframe thead th {\n",
       "        text-align: right;\n",
       "    }\n",
       "</style>\n",
       "<table border=\"1\" class=\"dataframe\">\n",
       "  <thead>\n",
       "    <tr style=\"text-align: right;\">\n",
       "      <th></th>\n",
       "      <th>Pclass</th>\n",
       "      <th>Age</th>\n",
       "      <th>SibSp</th>\n",
       "      <th>Parch</th>\n",
       "      <th>Fare</th>\n",
       "      <th>Sex</th>\n",
       "      <th>Embarked</th>\n",
       "    </tr>\n",
       "  </thead>\n",
       "  <tbody>\n",
       "    <tr>\n",
       "      <th>0</th>\n",
       "      <td>3</td>\n",
       "      <td>34.5</td>\n",
       "      <td>0</td>\n",
       "      <td>0</td>\n",
       "      <td>7.8292</td>\n",
       "      <td>1</td>\n",
       "      <td>1</td>\n",
       "    </tr>\n",
       "    <tr>\n",
       "      <th>1</th>\n",
       "      <td>3</td>\n",
       "      <td>47.0</td>\n",
       "      <td>1</td>\n",
       "      <td>0</td>\n",
       "      <td>7.0000</td>\n",
       "      <td>0</td>\n",
       "      <td>2</td>\n",
       "    </tr>\n",
       "    <tr>\n",
       "      <th>2</th>\n",
       "      <td>2</td>\n",
       "      <td>62.0</td>\n",
       "      <td>0</td>\n",
       "      <td>0</td>\n",
       "      <td>9.6875</td>\n",
       "      <td>1</td>\n",
       "      <td>1</td>\n",
       "    </tr>\n",
       "    <tr>\n",
       "      <th>3</th>\n",
       "      <td>3</td>\n",
       "      <td>27.0</td>\n",
       "      <td>0</td>\n",
       "      <td>0</td>\n",
       "      <td>8.6625</td>\n",
       "      <td>1</td>\n",
       "      <td>2</td>\n",
       "    </tr>\n",
       "    <tr>\n",
       "      <th>4</th>\n",
       "      <td>3</td>\n",
       "      <td>22.0</td>\n",
       "      <td>1</td>\n",
       "      <td>1</td>\n",
       "      <td>12.2875</td>\n",
       "      <td>0</td>\n",
       "      <td>2</td>\n",
       "    </tr>\n",
       "  </tbody>\n",
       "</table>\n",
       "</div>"
      ],
      "text/plain": [
       "   Pclass   Age  SibSp  Parch     Fare  Sex  Embarked\n",
       "0       3  34.5      0      0   7.8292    1         1\n",
       "1       3  47.0      1      0   7.0000    0         2\n",
       "2       2  62.0      0      0   9.6875    1         1\n",
       "3       3  27.0      0      0   8.6625    1         2\n",
       "4       3  22.0      1      1  12.2875    0         2"
      ]
     },
     "execution_count": 28,
     "metadata": {},
     "output_type": "execute_result"
    }
   ],
   "source": [
    "x2.drop(\"Embarked\", axis=1, inplace=True)\n",
    " \n",
    "# Appending the array to our dataFrame\n",
    "# with column name 'Purchased'\n",
    "x2[\"Embarked\"] = label\n",
    " \n",
    "# printing Dataframe\n",
    "x2.head()"
   ]
  },
  {
   "cell_type": "code",
   "execution_count": 29,
   "id": "0e546c12",
   "metadata": {
    "execution": {
     "iopub.execute_input": "2022-09-06T09:12:46.161274Z",
     "iopub.status.busy": "2022-09-06T09:12:46.160537Z",
     "iopub.status.idle": "2022-09-06T09:12:46.165694Z",
     "shell.execute_reply": "2022-09-06T09:12:46.164901Z"
    },
    "papermill": {
     "duration": 0.019348,
     "end_time": "2022-09-06T09:12:46.167924",
     "exception": false,
     "start_time": "2022-09-06T09:12:46.148576",
     "status": "completed"
    },
    "tags": []
   },
   "outputs": [],
   "source": [
    "x2[\"Age\"]=x2[\"Age\"].astype(int)"
   ]
  },
  {
   "cell_type": "code",
   "execution_count": 30,
   "id": "f0b77d2b",
   "metadata": {
    "execution": {
     "iopub.execute_input": "2022-09-06T09:12:46.191345Z",
     "iopub.status.busy": "2022-09-06T09:12:46.190559Z",
     "iopub.status.idle": "2022-09-06T09:12:46.198205Z",
     "shell.execute_reply": "2022-09-06T09:12:46.197118Z"
    },
    "papermill": {
     "duration": 0.021833,
     "end_time": "2022-09-06T09:12:46.200345",
     "exception": false,
     "start_time": "2022-09-06T09:12:46.178512",
     "status": "completed"
    },
    "tags": []
   },
   "outputs": [
    {
     "data": {
      "text/plain": [
       "array([[ 3.    , 34.    ,  0.    ,  0.    ,  7.8292,  1.    ,  1.    ],\n",
       "       [ 3.    , 47.    ,  1.    ,  0.    ,  7.    ,  0.    ,  2.    ],\n",
       "       [ 2.    , 62.    ,  0.    ,  0.    ,  9.6875,  1.    ,  1.    ],\n",
       "       [ 3.    , 27.    ,  0.    ,  0.    ,  8.6625,  1.    ,  2.    ],\n",
       "       [ 3.    , 22.    ,  1.    ,  1.    , 12.2875,  0.    ,  2.    ]])"
      ]
     },
     "execution_count": 30,
     "metadata": {},
     "output_type": "execute_result"
    }
   ],
   "source": [
    "x_test=x2.values\n",
    "x_test[0:5,:]"
   ]
  },
  {
   "cell_type": "code",
   "execution_count": 31,
   "id": "03b78693",
   "metadata": {
    "execution": {
     "iopub.execute_input": "2022-09-06T09:12:46.223473Z",
     "iopub.status.busy": "2022-09-06T09:12:46.223018Z",
     "iopub.status.idle": "2022-09-06T09:12:46.235831Z",
     "shell.execute_reply": "2022-09-06T09:12:46.234311Z"
    },
    "papermill": {
     "duration": 0.027447,
     "end_time": "2022-09-06T09:12:46.238394",
     "exception": false,
     "start_time": "2022-09-06T09:12:46.210947",
     "status": "completed"
    },
    "tags": []
   },
   "outputs": [
    {
     "name": "stdout",
     "output_type": "stream",
     "text": [
      "Your submission was successfully saved!\n"
     ]
    }
   ],
   "source": [
    "y_pred= model.predict(x_test)  \n",
    "output = pd.DataFrame({'PassengerId': test_data.PassengerId, 'Survived': y_pred})\n",
    "output.to_csv('submission.csv', index=False)\n",
    "print(\"Your submission was successfully saved!\")"
   ]
  },
  {
   "cell_type": "code",
   "execution_count": 32,
   "id": "cdf39e76",
   "metadata": {
    "execution": {
     "iopub.execute_input": "2022-09-06T09:12:46.262293Z",
     "iopub.status.busy": "2022-09-06T09:12:46.261855Z",
     "iopub.status.idle": "2022-09-06T09:12:47.385103Z",
     "shell.execute_reply": "2022-09-06T09:12:47.383829Z"
    },
    "papermill": {
     "duration": 1.138317,
     "end_time": "2022-09-06T09:12:47.387756",
     "exception": false,
     "start_time": "2022-09-06T09:12:46.249439",
     "status": "completed"
    },
    "tags": []
   },
   "outputs": [
    {
     "name": "stdout",
     "output_type": "stream",
     "text": [
      "__notebook__.ipynb  submission.csv\r\n"
     ]
    }
   ],
   "source": [
    "!ls"
   ]
  },
  {
   "cell_type": "code",
   "execution_count": null,
   "id": "423b28f3",
   "metadata": {
    "papermill": {
     "duration": 0.010454,
     "end_time": "2022-09-06T09:12:47.409059",
     "exception": false,
     "start_time": "2022-09-06T09:12:47.398605",
     "status": "completed"
    },
    "tags": []
   },
   "outputs": [],
   "source": []
  }
 ],
 "metadata": {
  "kernelspec": {
   "display_name": "Python 3",
   "language": "python",
   "name": "python3"
  },
  "language_info": {
   "codemirror_mode": {
    "name": "ipython",
    "version": 3
   },
   "file_extension": ".py",
   "mimetype": "text/x-python",
   "name": "python",
   "nbconvert_exporter": "python",
   "pygments_lexer": "ipython3",
   "version": "3.7.12"
  },
  "papermill": {
   "default_parameters": {},
   "duration": 15.063086,
   "end_time": "2022-09-06T09:12:48.243325",
   "environment_variables": {},
   "exception": null,
   "input_path": "__notebook__.ipynb",
   "output_path": "__notebook__.ipynb",
   "parameters": {},
   "start_time": "2022-09-06T09:12:33.180239",
   "version": "2.3.4"
  }
 },
 "nbformat": 4,
 "nbformat_minor": 5
}
