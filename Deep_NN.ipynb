{
 "cells": [
  {
   "cell_type": "code",
   "execution_count": 1,
   "id": "8e743dea",
   "metadata": {
    "execution": {
     "iopub.execute_input": "2022-09-07T05:49:02.361848Z",
     "iopub.status.busy": "2022-09-07T05:49:02.361061Z",
     "iopub.status.idle": "2022-09-07T05:49:02.379154Z",
     "shell.execute_reply": "2022-09-07T05:49:02.378212Z"
    },
    "papermill": {
     "duration": 0.030501,
     "end_time": "2022-09-07T05:49:02.382196",
     "exception": false,
     "start_time": "2022-09-07T05:49:02.351695",
     "status": "completed"
    },
    "tags": []
   },
   "outputs": [
    {
     "name": "stdout",
     "output_type": "stream",
     "text": [
      "/kaggle/input/titanic/train.csv\n",
      "/kaggle/input/titanic/test.csv\n",
      "/kaggle/input/titanic/gender_submission.csv\n"
     ]
    }
   ],
   "source": [
    "import numpy as np # linear algebra\n",
    "import pandas as pd # data processing, CSV file I/O (e.g. pd.read_csv)\n",
    "\n",
    "# Input data files are available in the read-only \"../input/\" directory\n",
    "# For example, running this (by clicking run or pressing Shift+Enter) will list all files under the input directory\n",
    "\n",
    "import os\n",
    "for dirname, _, filenames in os.walk('/kaggle/input'):\n",
    "    for filename in filenames:\n",
    "        print(os.path.join(dirname, filename))\n"
   ]
  },
  {
   "cell_type": "code",
   "execution_count": 2,
   "id": "6f729d17",
   "metadata": {
    "execution": {
     "iopub.execute_input": "2022-09-07T05:49:02.398759Z",
     "iopub.status.busy": "2022-09-07T05:49:02.397627Z",
     "iopub.status.idle": "2022-09-07T05:49:03.516833Z",
     "shell.execute_reply": "2022-09-07T05:49:03.515566Z"
    },
    "papermill": {
     "duration": 1.130046,
     "end_time": "2022-09-07T05:49:03.519621",
     "exception": false,
     "start_time": "2022-09-07T05:49:02.389575",
     "status": "completed"
    },
    "tags": []
   },
   "outputs": [
    {
     "name": "stdout",
     "output_type": "stream",
     "text": [
      "__notebook__.ipynb\r\n"
     ]
    }
   ],
   "source": [
    "ls"
   ]
  },
  {
   "cell_type": "code",
   "execution_count": 3,
   "id": "e83380cc",
   "metadata": {
    "execution": {
     "iopub.execute_input": "2022-09-07T05:49:03.534831Z",
     "iopub.status.busy": "2022-09-07T05:49:03.534439Z",
     "iopub.status.idle": "2022-09-07T05:49:03.578635Z",
     "shell.execute_reply": "2022-09-07T05:49:03.577430Z"
    },
    "papermill": {
     "duration": 0.055297,
     "end_time": "2022-09-07T05:49:03.581206",
     "exception": false,
     "start_time": "2022-09-07T05:49:03.525909",
     "status": "completed"
    },
    "tags": []
   },
   "outputs": [
    {
     "data": {
      "text/html": [
       "<div>\n",
       "<style scoped>\n",
       "    .dataframe tbody tr th:only-of-type {\n",
       "        vertical-align: middle;\n",
       "    }\n",
       "\n",
       "    .dataframe tbody tr th {\n",
       "        vertical-align: top;\n",
       "    }\n",
       "\n",
       "    .dataframe thead th {\n",
       "        text-align: right;\n",
       "    }\n",
       "</style>\n",
       "<table border=\"1\" class=\"dataframe\">\n",
       "  <thead>\n",
       "    <tr style=\"text-align: right;\">\n",
       "      <th></th>\n",
       "      <th>PassengerId</th>\n",
       "      <th>Survived</th>\n",
       "      <th>Pclass</th>\n",
       "      <th>Name</th>\n",
       "      <th>Sex</th>\n",
       "      <th>Age</th>\n",
       "      <th>SibSp</th>\n",
       "      <th>Parch</th>\n",
       "      <th>Ticket</th>\n",
       "      <th>Fare</th>\n",
       "      <th>Cabin</th>\n",
       "      <th>Embarked</th>\n",
       "    </tr>\n",
       "  </thead>\n",
       "  <tbody>\n",
       "    <tr>\n",
       "      <th>0</th>\n",
       "      <td>1</td>\n",
       "      <td>0</td>\n",
       "      <td>3</td>\n",
       "      <td>Braund, Mr. Owen Harris</td>\n",
       "      <td>male</td>\n",
       "      <td>22.0</td>\n",
       "      <td>1</td>\n",
       "      <td>0</td>\n",
       "      <td>A/5 21171</td>\n",
       "      <td>7.2500</td>\n",
       "      <td>NaN</td>\n",
       "      <td>S</td>\n",
       "    </tr>\n",
       "    <tr>\n",
       "      <th>1</th>\n",
       "      <td>2</td>\n",
       "      <td>1</td>\n",
       "      <td>1</td>\n",
       "      <td>Cumings, Mrs. John Bradley (Florence Briggs Th...</td>\n",
       "      <td>female</td>\n",
       "      <td>38.0</td>\n",
       "      <td>1</td>\n",
       "      <td>0</td>\n",
       "      <td>PC 17599</td>\n",
       "      <td>71.2833</td>\n",
       "      <td>C85</td>\n",
       "      <td>C</td>\n",
       "    </tr>\n",
       "    <tr>\n",
       "      <th>2</th>\n",
       "      <td>3</td>\n",
       "      <td>1</td>\n",
       "      <td>3</td>\n",
       "      <td>Heikkinen, Miss. Laina</td>\n",
       "      <td>female</td>\n",
       "      <td>26.0</td>\n",
       "      <td>0</td>\n",
       "      <td>0</td>\n",
       "      <td>STON/O2. 3101282</td>\n",
       "      <td>7.9250</td>\n",
       "      <td>NaN</td>\n",
       "      <td>S</td>\n",
       "    </tr>\n",
       "  </tbody>\n",
       "</table>\n",
       "</div>"
      ],
      "text/plain": [
       "   PassengerId  Survived  Pclass  \\\n",
       "0            1         0       3   \n",
       "1            2         1       1   \n",
       "2            3         1       3   \n",
       "\n",
       "                                                Name     Sex   Age  SibSp  \\\n",
       "0                            Braund, Mr. Owen Harris    male  22.0      1   \n",
       "1  Cumings, Mrs. John Bradley (Florence Briggs Th...  female  38.0      1   \n",
       "2                             Heikkinen, Miss. Laina  female  26.0      0   \n",
       "\n",
       "   Parch            Ticket     Fare Cabin Embarked  \n",
       "0      0         A/5 21171   7.2500   NaN        S  \n",
       "1      0          PC 17599  71.2833   C85        C  \n",
       "2      0  STON/O2. 3101282   7.9250   NaN        S  "
      ]
     },
     "execution_count": 3,
     "metadata": {},
     "output_type": "execute_result"
    }
   ],
   "source": [
    "train_data = pd.read_csv(\"/kaggle/input/titanic/train.csv\")\n",
    "train_data.head(3)"
   ]
  },
  {
   "cell_type": "code",
   "execution_count": 4,
   "id": "a88ad4fa",
   "metadata": {
    "execution": {
     "iopub.execute_input": "2022-09-07T05:49:03.596534Z",
     "iopub.status.busy": "2022-09-07T05:49:03.596154Z",
     "iopub.status.idle": "2022-09-07T05:49:03.620078Z",
     "shell.execute_reply": "2022-09-07T05:49:03.618997Z"
    },
    "papermill": {
     "duration": 0.034534,
     "end_time": "2022-09-07T05:49:03.622441",
     "exception": false,
     "start_time": "2022-09-07T05:49:03.587907",
     "status": "completed"
    },
    "tags": []
   },
   "outputs": [
    {
     "data": {
      "text/html": [
       "<div>\n",
       "<style scoped>\n",
       "    .dataframe tbody tr th:only-of-type {\n",
       "        vertical-align: middle;\n",
       "    }\n",
       "\n",
       "    .dataframe tbody tr th {\n",
       "        vertical-align: top;\n",
       "    }\n",
       "\n",
       "    .dataframe thead th {\n",
       "        text-align: right;\n",
       "    }\n",
       "</style>\n",
       "<table border=\"1\" class=\"dataframe\">\n",
       "  <thead>\n",
       "    <tr style=\"text-align: right;\">\n",
       "      <th></th>\n",
       "      <th>PassengerId</th>\n",
       "      <th>Pclass</th>\n",
       "      <th>Name</th>\n",
       "      <th>Sex</th>\n",
       "      <th>Age</th>\n",
       "      <th>SibSp</th>\n",
       "      <th>Parch</th>\n",
       "      <th>Ticket</th>\n",
       "      <th>Fare</th>\n",
       "      <th>Cabin</th>\n",
       "      <th>Embarked</th>\n",
       "    </tr>\n",
       "  </thead>\n",
       "  <tbody>\n",
       "    <tr>\n",
       "      <th>0</th>\n",
       "      <td>892</td>\n",
       "      <td>3</td>\n",
       "      <td>Kelly, Mr. James</td>\n",
       "      <td>male</td>\n",
       "      <td>34.5</td>\n",
       "      <td>0</td>\n",
       "      <td>0</td>\n",
       "      <td>330911</td>\n",
       "      <td>7.8292</td>\n",
       "      <td>NaN</td>\n",
       "      <td>Q</td>\n",
       "    </tr>\n",
       "    <tr>\n",
       "      <th>1</th>\n",
       "      <td>893</td>\n",
       "      <td>3</td>\n",
       "      <td>Wilkes, Mrs. James (Ellen Needs)</td>\n",
       "      <td>female</td>\n",
       "      <td>47.0</td>\n",
       "      <td>1</td>\n",
       "      <td>0</td>\n",
       "      <td>363272</td>\n",
       "      <td>7.0000</td>\n",
       "      <td>NaN</td>\n",
       "      <td>S</td>\n",
       "    </tr>\n",
       "    <tr>\n",
       "      <th>2</th>\n",
       "      <td>894</td>\n",
       "      <td>2</td>\n",
       "      <td>Myles, Mr. Thomas Francis</td>\n",
       "      <td>male</td>\n",
       "      <td>62.0</td>\n",
       "      <td>0</td>\n",
       "      <td>0</td>\n",
       "      <td>240276</td>\n",
       "      <td>9.6875</td>\n",
       "      <td>NaN</td>\n",
       "      <td>Q</td>\n",
       "    </tr>\n",
       "    <tr>\n",
       "      <th>3</th>\n",
       "      <td>895</td>\n",
       "      <td>3</td>\n",
       "      <td>Wirz, Mr. Albert</td>\n",
       "      <td>male</td>\n",
       "      <td>27.0</td>\n",
       "      <td>0</td>\n",
       "      <td>0</td>\n",
       "      <td>315154</td>\n",
       "      <td>8.6625</td>\n",
       "      <td>NaN</td>\n",
       "      <td>S</td>\n",
       "    </tr>\n",
       "    <tr>\n",
       "      <th>4</th>\n",
       "      <td>896</td>\n",
       "      <td>3</td>\n",
       "      <td>Hirvonen, Mrs. Alexander (Helga E Lindqvist)</td>\n",
       "      <td>female</td>\n",
       "      <td>22.0</td>\n",
       "      <td>1</td>\n",
       "      <td>1</td>\n",
       "      <td>3101298</td>\n",
       "      <td>12.2875</td>\n",
       "      <td>NaN</td>\n",
       "      <td>S</td>\n",
       "    </tr>\n",
       "  </tbody>\n",
       "</table>\n",
       "</div>"
      ],
      "text/plain": [
       "   PassengerId  Pclass                                          Name     Sex  \\\n",
       "0          892       3                              Kelly, Mr. James    male   \n",
       "1          893       3              Wilkes, Mrs. James (Ellen Needs)  female   \n",
       "2          894       2                     Myles, Mr. Thomas Francis    male   \n",
       "3          895       3                              Wirz, Mr. Albert    male   \n",
       "4          896       3  Hirvonen, Mrs. Alexander (Helga E Lindqvist)  female   \n",
       "\n",
       "    Age  SibSp  Parch   Ticket     Fare Cabin Embarked  \n",
       "0  34.5      0      0   330911   7.8292   NaN        Q  \n",
       "1  47.0      1      0   363272   7.0000   NaN        S  \n",
       "2  62.0      0      0   240276   9.6875   NaN        Q  \n",
       "3  27.0      0      0   315154   8.6625   NaN        S  \n",
       "4  22.0      1      1  3101298  12.2875   NaN        S  "
      ]
     },
     "execution_count": 4,
     "metadata": {},
     "output_type": "execute_result"
    }
   ],
   "source": [
    "test_data = pd.read_csv(\"/kaggle/input/titanic/test.csv\")\n",
    "test_data.head()"
   ]
  },
  {
   "cell_type": "code",
   "execution_count": 5,
   "id": "fea15bfb",
   "metadata": {
    "execution": {
     "iopub.execute_input": "2022-09-07T05:49:03.637679Z",
     "iopub.status.busy": "2022-09-07T05:49:03.637275Z",
     "iopub.status.idle": "2022-09-07T05:49:11.331227Z",
     "shell.execute_reply": "2022-09-07T05:49:11.330026Z"
    },
    "papermill": {
     "duration": 7.704605,
     "end_time": "2022-09-07T05:49:11.333911",
     "exception": false,
     "start_time": "2022-09-07T05:49:03.629306",
     "status": "completed"
    },
    "tags": []
   },
   "outputs": [],
   "source": [
    "# modules\n",
    "import pandas as pd\n",
    "import numpy as np\n",
    "import matplotlib.pyplot as plt\n",
    "from sklearn.preprocessing import LabelEncoder\n",
    "from keras.wrappers.scikit_learn import KerasClassifier\n",
    "from keras.utils import np_utils\n",
    "from sklearn.model_selection import train_test_split  \n",
    "from sklearn.preprocessing import StandardScaler    \n",
    "\n",
    "# for modeling\n",
    "from keras.models import Sequential\n",
    "from keras.layers import Dense, Dropout\n",
    "from keras.callbacks import EarlyStopping"
   ]
  },
  {
   "cell_type": "code",
   "execution_count": 6,
   "id": "a039b11a",
   "metadata": {
    "execution": {
     "iopub.execute_input": "2022-09-07T05:49:11.349497Z",
     "iopub.status.busy": "2022-09-07T05:49:11.348742Z",
     "iopub.status.idle": "2022-09-07T05:49:11.382178Z",
     "shell.execute_reply": "2022-09-07T05:49:11.380608Z"
    },
    "papermill": {
     "duration": 0.04404,
     "end_time": "2022-09-07T05:49:11.384703",
     "exception": false,
     "start_time": "2022-09-07T05:49:11.340663",
     "status": "completed"
    },
    "tags": []
   },
   "outputs": [
    {
     "name": "stdout",
     "output_type": "stream",
     "text": [
      "<class 'pandas.core.frame.DataFrame'>\n",
      "RangeIndex: 891 entries, 0 to 890\n",
      "Data columns (total 11 columns):\n",
      " #   Column       Non-Null Count  Dtype  \n",
      "---  ------       --------------  -----  \n",
      " 0   PassengerId  891 non-null    int64  \n",
      " 1   Survived     891 non-null    int64  \n",
      " 2   Pclass       891 non-null    int64  \n",
      " 3   Name         891 non-null    object \n",
      " 4   Sex          891 non-null    object \n",
      " 5   Age          891 non-null    float64\n",
      " 6   SibSp        891 non-null    int64  \n",
      " 7   Parch        891 non-null    int64  \n",
      " 8   Ticket       891 non-null    object \n",
      " 9   Fare         891 non-null    float64\n",
      " 10  Embarked     891 non-null    object \n",
      "dtypes: float64(2), int64(5), object(4)\n",
      "memory usage: 76.7+ KB\n"
     ]
    }
   ],
   "source": [
    "# first, delete the cabin column\n",
    "train_data.drop(['Cabin'], axis=1, inplace=True)\n",
    "\n",
    "# now impute the 'Age' column\n",
    "train_data['Age'].fillna(train_data['Age'].mean(), inplace=True)\n",
    "\n",
    "# now ditch the two rows from 'Embarked'\n",
    "train_data.fillna(0,inplace=True)\n",
    "\n",
    "train_data.info()"
   ]
  },
  {
   "cell_type": "code",
   "execution_count": 7,
   "id": "6c4255f4",
   "metadata": {
    "execution": {
     "iopub.execute_input": "2022-09-07T05:49:11.401502Z",
     "iopub.status.busy": "2022-09-07T05:49:11.400247Z",
     "iopub.status.idle": "2022-09-07T05:49:11.419880Z",
     "shell.execute_reply": "2022-09-07T05:49:11.418192Z"
    },
    "papermill": {
     "duration": 0.031413,
     "end_time": "2022-09-07T05:49:11.423144",
     "exception": false,
     "start_time": "2022-09-07T05:49:11.391731",
     "status": "completed"
    },
    "tags": []
   },
   "outputs": [
    {
     "name": "stdout",
     "output_type": "stream",
     "text": [
      "<class 'pandas.core.frame.DataFrame'>\n",
      "RangeIndex: 891 entries, 0 to 890\n",
      "Data columns (total 8 columns):\n",
      " #   Column    Non-Null Count  Dtype  \n",
      "---  ------    --------------  -----  \n",
      " 0   Survived  891 non-null    int64  \n",
      " 1   Pclass    891 non-null    int64  \n",
      " 2   Sex       891 non-null    int64  \n",
      " 3   Age       891 non-null    float64\n",
      " 4   SibSp     891 non-null    int64  \n",
      " 5   Parch     891 non-null    int64  \n",
      " 6   Fare      891 non-null    float64\n",
      " 7   Embarked  891 non-null    int64  \n",
      "dtypes: float64(2), int64(6)\n",
      "memory usage: 55.8 KB\n"
     ]
    }
   ],
   "source": [
    "# drop unncessary columns from train and testdf\n",
    "train_data.drop(['PassengerId', 'Name', 'Ticket'], axis=1, inplace=True)\n",
    "\n",
    "# recode the sex column\n",
    "train_data['Sex'].replace(('male', 'female'), (0, 1), inplace=True)\n",
    "\n",
    "# recode the embarked column\n",
    "train_data['Embarked'].replace(('Q', 'S', 'C'), (0, 1, 2), inplace=True)\n",
    "\n",
    "train_data.info()"
   ]
  },
  {
   "cell_type": "code",
   "execution_count": 8,
   "id": "bf7c3ccf",
   "metadata": {
    "execution": {
     "iopub.execute_input": "2022-09-07T05:49:11.440093Z",
     "iopub.status.busy": "2022-09-07T05:49:11.439621Z",
     "iopub.status.idle": "2022-09-07T05:49:11.447959Z",
     "shell.execute_reply": "2022-09-07T05:49:11.446664Z"
    },
    "papermill": {
     "duration": 0.01965,
     "end_time": "2022-09-07T05:49:11.450542",
     "exception": false,
     "start_time": "2022-09-07T05:49:11.430892",
     "status": "completed"
    },
    "tags": []
   },
   "outputs": [
    {
     "data": {
      "text/plain": [
       "0    549\n",
       "1    342\n",
       "Name: Survived, dtype: int64"
      ]
     },
     "execution_count": 8,
     "metadata": {},
     "output_type": "execute_result"
    }
   ],
   "source": [
    "# check distribution of target variable\n",
    "train_data['Survived'].value_counts()"
   ]
  },
  {
   "cell_type": "code",
   "execution_count": 9,
   "id": "ca48198b",
   "metadata": {
    "execution": {
     "iopub.execute_input": "2022-09-07T05:49:11.466731Z",
     "iopub.status.busy": "2022-09-07T05:49:11.465886Z",
     "iopub.status.idle": "2022-09-07T05:49:11.475489Z",
     "shell.execute_reply": "2022-09-07T05:49:11.474022Z"
    },
    "papermill": {
     "duration": 0.020376,
     "end_time": "2022-09-07T05:49:11.477856",
     "exception": false,
     "start_time": "2022-09-07T05:49:11.457480",
     "status": "completed"
    },
    "tags": []
   },
   "outputs": [
    {
     "name": "stdout",
     "output_type": "stream",
     "text": [
      "(891, 7)\n",
      "(891,)\n"
     ]
    }
   ],
   "source": [
    "# split into X and Y\n",
    "Y = train_data['Survived']\n",
    "X = train_data.drop(['Survived'], axis=1)\n",
    "\n",
    "print(X.shape)\n",
    "print(Y.shape)\n",
    "\n",
    "# convert to numpy arrays\n",
    "X = np.array(X)"
   ]
  },
  {
   "cell_type": "code",
   "execution_count": 10,
   "id": "8fcf9095",
   "metadata": {
    "execution": {
     "iopub.execute_input": "2022-09-07T05:49:11.494095Z",
     "iopub.status.busy": "2022-09-07T05:49:11.493336Z",
     "iopub.status.idle": "2022-09-07T05:49:11.499418Z",
     "shell.execute_reply": "2022-09-07T05:49:11.498506Z"
    },
    "papermill": {
     "duration": 0.016869,
     "end_time": "2022-09-07T05:49:11.501773",
     "exception": false,
     "start_time": "2022-09-07T05:49:11.484904",
     "status": "completed"
    },
    "tags": []
   },
   "outputs": [],
   "source": [
    "st_x= StandardScaler()    \n",
    "x= st_x.fit_transform(X)  "
   ]
  },
  {
   "cell_type": "code",
   "execution_count": 11,
   "id": "5d16aa7d",
   "metadata": {
    "execution": {
     "iopub.execute_input": "2022-09-07T05:49:11.518147Z",
     "iopub.status.busy": "2022-09-07T05:49:11.517339Z",
     "iopub.status.idle": "2022-09-07T05:49:22.888376Z",
     "shell.execute_reply": "2022-09-07T05:49:22.886882Z"
    },
    "papermill": {
     "duration": 11.382052,
     "end_time": "2022-09-07T05:49:22.890829",
     "exception": false,
     "start_time": "2022-09-07T05:49:11.508777",
     "status": "completed"
    },
    "tags": []
   },
   "outputs": [
    {
     "name": "stdout",
     "output_type": "stream",
     "text": [
      "Model: \"sequential\"\n",
      "_________________________________________________________________\n",
      "Layer (type)                 Output Shape              Param #   \n",
      "=================================================================\n",
      "dense (Dense)                (None, 16)                128       \n",
      "_________________________________________________________________\n",
      "dense_1 (Dense)              (None, 16)                272       \n",
      "_________________________________________________________________\n",
      "dense_2 (Dense)              (None, 1)                 17        \n",
      "=================================================================\n",
      "Total params: 417\n",
      "Trainable params: 417\n",
      "Non-trainable params: 0\n",
      "_________________________________________________________________\n"
     ]
    },
    {
     "name": "stderr",
     "output_type": "stream",
     "text": [
      "2022-09-07 05:49:11.561876: I tensorflow/core/common_runtime/process_util.cc:146] Creating new thread pool with default inter op setting: 2. Tune using inter_op_parallelism_threads for best performance.\n",
      "2022-09-07 05:49:11.746428: I tensorflow/compiler/mlir/mlir_graph_optimization_pass.cc:185] None of the MLIR Optimization Passes are enabled (registered 2)\n"
     ]
    },
    {
     "name": "stdout",
     "output_type": "stream",
     "text": [
      "Epoch 1/80\n",
      "72/72 [==============================] - 1s 5ms/step - loss: 0.7033 - accuracy: 0.4677 - val_loss: 0.6685 - val_accuracy: 0.6480\n",
      "Epoch 2/80\n",
      "72/72 [==============================] - 0s 2ms/step - loss: 0.6033 - accuracy: 0.7612 - val_loss: 0.5438 - val_accuracy: 0.7765\n",
      "Epoch 3/80\n",
      "72/72 [==============================] - 0s 2ms/step - loss: 0.5273 - accuracy: 0.7753 - val_loss: 0.4681 - val_accuracy: 0.8101\n",
      "Epoch 4/80\n",
      "72/72 [==============================] - 0s 2ms/step - loss: 0.4879 - accuracy: 0.7978 - val_loss: 0.4292 - val_accuracy: 0.8324\n",
      "Epoch 5/80\n",
      "72/72 [==============================] - 0s 2ms/step - loss: 0.4662 - accuracy: 0.8006 - val_loss: 0.4094 - val_accuracy: 0.8268\n",
      "Epoch 6/80\n",
      "72/72 [==============================] - 0s 2ms/step - loss: 0.4562 - accuracy: 0.8006 - val_loss: 0.4016 - val_accuracy: 0.8380\n",
      "Epoch 7/80\n",
      "72/72 [==============================] - 0s 2ms/step - loss: 0.4499 - accuracy: 0.8020 - val_loss: 0.3965 - val_accuracy: 0.8380\n",
      "Epoch 8/80\n",
      "72/72 [==============================] - 0s 2ms/step - loss: 0.4454 - accuracy: 0.7978 - val_loss: 0.3934 - val_accuracy: 0.8380\n",
      "Epoch 9/80\n",
      "72/72 [==============================] - 0s 2ms/step - loss: 0.4412 - accuracy: 0.8034 - val_loss: 0.3909 - val_accuracy: 0.8324\n",
      "Epoch 10/80\n",
      "72/72 [==============================] - 0s 2ms/step - loss: 0.4371 - accuracy: 0.8104 - val_loss: 0.3904 - val_accuracy: 0.8324\n",
      "Epoch 11/80\n",
      "72/72 [==============================] - 0s 2ms/step - loss: 0.4350 - accuracy: 0.8048 - val_loss: 0.3877 - val_accuracy: 0.8324\n",
      "Epoch 12/80\n",
      "72/72 [==============================] - 0s 2ms/step - loss: 0.4338 - accuracy: 0.8048 - val_loss: 0.3842 - val_accuracy: 0.8268\n",
      "Epoch 13/80\n",
      "72/72 [==============================] - 0s 3ms/step - loss: 0.4308 - accuracy: 0.8048 - val_loss: 0.3834 - val_accuracy: 0.8268\n",
      "Epoch 14/80\n",
      "72/72 [==============================] - 0s 2ms/step - loss: 0.4297 - accuracy: 0.8020 - val_loss: 0.3832 - val_accuracy: 0.8268\n",
      "Epoch 15/80\n",
      "72/72 [==============================] - 0s 2ms/step - loss: 0.4280 - accuracy: 0.8006 - val_loss: 0.3794 - val_accuracy: 0.8380\n",
      "Epoch 16/80\n",
      "72/72 [==============================] - 0s 2ms/step - loss: 0.4255 - accuracy: 0.8062 - val_loss: 0.3776 - val_accuracy: 0.8436\n",
      "Epoch 17/80\n",
      "72/72 [==============================] - 0s 2ms/step - loss: 0.4231 - accuracy: 0.8160 - val_loss: 0.3773 - val_accuracy: 0.8268\n",
      "Epoch 18/80\n",
      "72/72 [==============================] - 0s 2ms/step - loss: 0.4234 - accuracy: 0.8076 - val_loss: 0.3747 - val_accuracy: 0.8324\n",
      "Epoch 19/80\n",
      "72/72 [==============================] - 0s 2ms/step - loss: 0.4202 - accuracy: 0.8132 - val_loss: 0.3751 - val_accuracy: 0.8268\n",
      "Epoch 20/80\n",
      "72/72 [==============================] - 0s 2ms/step - loss: 0.4180 - accuracy: 0.8132 - val_loss: 0.3713 - val_accuracy: 0.8324\n",
      "Epoch 21/80\n",
      "72/72 [==============================] - 0s 2ms/step - loss: 0.4177 - accuracy: 0.8034 - val_loss: 0.3681 - val_accuracy: 0.8380\n",
      "Epoch 22/80\n",
      "72/72 [==============================] - 0s 2ms/step - loss: 0.4163 - accuracy: 0.8062 - val_loss: 0.3679 - val_accuracy: 0.8380\n",
      "Epoch 23/80\n",
      "72/72 [==============================] - 0s 2ms/step - loss: 0.4157 - accuracy: 0.8090 - val_loss: 0.3675 - val_accuracy: 0.8324\n",
      "Epoch 24/80\n",
      "72/72 [==============================] - 0s 2ms/step - loss: 0.4140 - accuracy: 0.8146 - val_loss: 0.3688 - val_accuracy: 0.8324\n",
      "Epoch 25/80\n",
      "72/72 [==============================] - 0s 2ms/step - loss: 0.4136 - accuracy: 0.8146 - val_loss: 0.3674 - val_accuracy: 0.8268\n",
      "Epoch 26/80\n",
      "72/72 [==============================] - 0s 2ms/step - loss: 0.4134 - accuracy: 0.8160 - val_loss: 0.3667 - val_accuracy: 0.8212\n",
      "Epoch 27/80\n",
      "72/72 [==============================] - 0s 2ms/step - loss: 0.4118 - accuracy: 0.8118 - val_loss: 0.3646 - val_accuracy: 0.8380\n",
      "Epoch 28/80\n",
      "72/72 [==============================] - 0s 2ms/step - loss: 0.4101 - accuracy: 0.8230 - val_loss: 0.3648 - val_accuracy: 0.8492\n",
      "Epoch 29/80\n",
      "72/72 [==============================] - 0s 2ms/step - loss: 0.4091 - accuracy: 0.8146 - val_loss: 0.3636 - val_accuracy: 0.8380\n",
      "Epoch 30/80\n",
      "72/72 [==============================] - 0s 2ms/step - loss: 0.4089 - accuracy: 0.8160 - val_loss: 0.3620 - val_accuracy: 0.8380\n",
      "Epoch 31/80\n",
      "72/72 [==============================] - 0s 2ms/step - loss: 0.4071 - accuracy: 0.8202 - val_loss: 0.3614 - val_accuracy: 0.8436\n",
      "Epoch 32/80\n",
      "72/72 [==============================] - 0s 2ms/step - loss: 0.4059 - accuracy: 0.8244 - val_loss: 0.3601 - val_accuracy: 0.8547\n",
      "Epoch 33/80\n",
      "72/72 [==============================] - 0s 2ms/step - loss: 0.4058 - accuracy: 0.8216 - val_loss: 0.3614 - val_accuracy: 0.8547\n",
      "Epoch 34/80\n",
      "72/72 [==============================] - 0s 2ms/step - loss: 0.4046 - accuracy: 0.8301 - val_loss: 0.3576 - val_accuracy: 0.8436\n",
      "Epoch 35/80\n",
      "72/72 [==============================] - 0s 2ms/step - loss: 0.4047 - accuracy: 0.8188 - val_loss: 0.3589 - val_accuracy: 0.8492\n",
      "Epoch 36/80\n",
      "72/72 [==============================] - 0s 2ms/step - loss: 0.4037 - accuracy: 0.8315 - val_loss: 0.3587 - val_accuracy: 0.8492\n",
      "Epoch 37/80\n",
      "72/72 [==============================] - 0s 2ms/step - loss: 0.4035 - accuracy: 0.8216 - val_loss: 0.3551 - val_accuracy: 0.8547\n",
      "Epoch 38/80\n",
      "72/72 [==============================] - 0s 2ms/step - loss: 0.4010 - accuracy: 0.8272 - val_loss: 0.3547 - val_accuracy: 0.8659\n",
      "Epoch 39/80\n",
      "72/72 [==============================] - 0s 2ms/step - loss: 0.4026 - accuracy: 0.8202 - val_loss: 0.3548 - val_accuracy: 0.8603\n",
      "Epoch 40/80\n",
      "72/72 [==============================] - 0s 2ms/step - loss: 0.4010 - accuracy: 0.8272 - val_loss: 0.3577 - val_accuracy: 0.8547\n",
      "Epoch 41/80\n",
      "72/72 [==============================] - 0s 2ms/step - loss: 0.4007 - accuracy: 0.8230 - val_loss: 0.3560 - val_accuracy: 0.8603\n",
      "Epoch 42/80\n",
      "72/72 [==============================] - 0s 2ms/step - loss: 0.3991 - accuracy: 0.8329 - val_loss: 0.3542 - val_accuracy: 0.8547\n",
      "Epoch 43/80\n",
      "72/72 [==============================] - 0s 2ms/step - loss: 0.4003 - accuracy: 0.8244 - val_loss: 0.3525 - val_accuracy: 0.8547\n",
      "Epoch 44/80\n",
      "72/72 [==============================] - 0s 2ms/step - loss: 0.3988 - accuracy: 0.8315 - val_loss: 0.3527 - val_accuracy: 0.8603\n",
      "Epoch 45/80\n",
      "72/72 [==============================] - 0s 2ms/step - loss: 0.3977 - accuracy: 0.8272 - val_loss: 0.3538 - val_accuracy: 0.8603\n",
      "Epoch 46/80\n",
      "72/72 [==============================] - 0s 2ms/step - loss: 0.3981 - accuracy: 0.8287 - val_loss: 0.3576 - val_accuracy: 0.8603\n",
      "Epoch 47/80\n",
      "72/72 [==============================] - 0s 2ms/step - loss: 0.3968 - accuracy: 0.8315 - val_loss: 0.3523 - val_accuracy: 0.8603\n",
      "Epoch 48/80\n",
      "72/72 [==============================] - 0s 2ms/step - loss: 0.3962 - accuracy: 0.8371 - val_loss: 0.3562 - val_accuracy: 0.8659\n",
      "Epoch 49/80\n",
      "72/72 [==============================] - 0s 2ms/step - loss: 0.3950 - accuracy: 0.8343 - val_loss: 0.3519 - val_accuracy: 0.8603\n",
      "Epoch 50/80\n",
      "72/72 [==============================] - 0s 2ms/step - loss: 0.3950 - accuracy: 0.8301 - val_loss: 0.3525 - val_accuracy: 0.8715\n",
      "Epoch 51/80\n",
      "72/72 [==============================] - 0s 2ms/step - loss: 0.3938 - accuracy: 0.8371 - val_loss: 0.3529 - val_accuracy: 0.8715\n",
      "Epoch 52/80\n",
      "72/72 [==============================] - 0s 2ms/step - loss: 0.3925 - accuracy: 0.8385 - val_loss: 0.3518 - val_accuracy: 0.8715\n",
      "Epoch 53/80\n",
      "72/72 [==============================] - 0s 2ms/step - loss: 0.3922 - accuracy: 0.8357 - val_loss: 0.3509 - val_accuracy: 0.8715\n",
      "Epoch 54/80\n",
      "72/72 [==============================] - 0s 2ms/step - loss: 0.3923 - accuracy: 0.8329 - val_loss: 0.3500 - val_accuracy: 0.8715\n",
      "Epoch 55/80\n",
      "72/72 [==============================] - 0s 2ms/step - loss: 0.3915 - accuracy: 0.8329 - val_loss: 0.3547 - val_accuracy: 0.8659\n",
      "Epoch 56/80\n",
      "72/72 [==============================] - 0s 2ms/step - loss: 0.3924 - accuracy: 0.8315 - val_loss: 0.3517 - val_accuracy: 0.8715\n",
      "Epoch 57/80\n",
      "72/72 [==============================] - 0s 2ms/step - loss: 0.3907 - accuracy: 0.8329 - val_loss: 0.3541 - val_accuracy: 0.8659\n",
      "Epoch 58/80\n",
      "72/72 [==============================] - 0s 2ms/step - loss: 0.3893 - accuracy: 0.8244 - val_loss: 0.3489 - val_accuracy: 0.8659\n",
      "Epoch 59/80\n",
      "72/72 [==============================] - 0s 2ms/step - loss: 0.3914 - accuracy: 0.8343 - val_loss: 0.3514 - val_accuracy: 0.8659\n",
      "Epoch 60/80\n",
      "72/72 [==============================] - 0s 2ms/step - loss: 0.3888 - accuracy: 0.8385 - val_loss: 0.3529 - val_accuracy: 0.8603\n",
      "Epoch 61/80\n",
      "72/72 [==============================] - 0s 2ms/step - loss: 0.3892 - accuracy: 0.8399 - val_loss: 0.3490 - val_accuracy: 0.8715\n",
      "Epoch 62/80\n",
      "72/72 [==============================] - 0s 2ms/step - loss: 0.3874 - accuracy: 0.8385 - val_loss: 0.3524 - val_accuracy: 0.8659\n"
     ]
    }
   ],
   "source": [
    "# build a model\n",
    "model = Sequential()\n",
    "model.add(Dense(16, input_shape=(x.shape[1],), activation='relu')) # Add an input shape! (features,)\n",
    "model.add(Dense(16, activation='relu'))\n",
    "model.add(Dense(1, activation='sigmoid'))\n",
    "model.summary() \n",
    "\n",
    "# compile the model\n",
    "model.compile(optimizer='Adam', \n",
    "              loss='binary_crossentropy',\n",
    "              metrics=['accuracy'])\n",
    "\n",
    "# early stopping callback\n",
    "# This callback will stop the training when there is no improvement in  \n",
    "# the validation loss for 10 consecutive epochs.  \n",
    "es = EarlyStopping(monitor='val_accuracy', \n",
    "                                   mode='max', # don't minimize the accuracy!\n",
    "                                   patience=12,\n",
    "                                   restore_best_weights=True)\n",
    "\n",
    "# now we just update our model fit call\n",
    "history = model.fit(x,\n",
    "                    Y,\n",
    "                    callbacks=[es],\n",
    "                    epochs=80, # you can set this to a big number!\n",
    "                    batch_size=10,\n",
    "                    validation_split=0.2,\n",
    "                    shuffle=True,\n",
    "                    verbose=1)"
   ]
  },
  {
   "cell_type": "code",
   "execution_count": 12,
   "id": "b74a721e",
   "metadata": {
    "execution": {
     "iopub.execute_input": "2022-09-07T05:49:22.938007Z",
     "iopub.status.busy": "2022-09-07T05:49:22.937331Z",
     "iopub.status.idle": "2022-09-07T05:49:22.951917Z",
     "shell.execute_reply": "2022-09-07T05:49:22.951135Z"
    },
    "papermill": {
     "duration": 0.03955,
     "end_time": "2022-09-07T05:49:22.953978",
     "exception": false,
     "start_time": "2022-09-07T05:49:22.914428",
     "status": "completed"
    },
    "tags": []
   },
   "outputs": [
    {
     "data": {
      "text/html": [
       "<div>\n",
       "<style scoped>\n",
       "    .dataframe tbody tr th:only-of-type {\n",
       "        vertical-align: middle;\n",
       "    }\n",
       "\n",
       "    .dataframe tbody tr th {\n",
       "        vertical-align: top;\n",
       "    }\n",
       "\n",
       "    .dataframe thead th {\n",
       "        text-align: right;\n",
       "    }\n",
       "</style>\n",
       "<table border=\"1\" class=\"dataframe\">\n",
       "  <thead>\n",
       "    <tr style=\"text-align: right;\">\n",
       "      <th></th>\n",
       "      <th>Pclass</th>\n",
       "      <th>Sex</th>\n",
       "      <th>Age</th>\n",
       "      <th>SibSp</th>\n",
       "      <th>Parch</th>\n",
       "      <th>Fare</th>\n",
       "      <th>Embarked</th>\n",
       "    </tr>\n",
       "  </thead>\n",
       "  <tbody>\n",
       "    <tr>\n",
       "      <th>0</th>\n",
       "      <td>3</td>\n",
       "      <td>male</td>\n",
       "      <td>34.5</td>\n",
       "      <td>0</td>\n",
       "      <td>0</td>\n",
       "      <td>7.8292</td>\n",
       "      <td>Q</td>\n",
       "    </tr>\n",
       "    <tr>\n",
       "      <th>1</th>\n",
       "      <td>3</td>\n",
       "      <td>female</td>\n",
       "      <td>47.0</td>\n",
       "      <td>1</td>\n",
       "      <td>0</td>\n",
       "      <td>7.0000</td>\n",
       "      <td>S</td>\n",
       "    </tr>\n",
       "    <tr>\n",
       "      <th>2</th>\n",
       "      <td>2</td>\n",
       "      <td>male</td>\n",
       "      <td>62.0</td>\n",
       "      <td>0</td>\n",
       "      <td>0</td>\n",
       "      <td>9.6875</td>\n",
       "      <td>Q</td>\n",
       "    </tr>\n",
       "    <tr>\n",
       "      <th>3</th>\n",
       "      <td>3</td>\n",
       "      <td>male</td>\n",
       "      <td>27.0</td>\n",
       "      <td>0</td>\n",
       "      <td>0</td>\n",
       "      <td>8.6625</td>\n",
       "      <td>S</td>\n",
       "    </tr>\n",
       "    <tr>\n",
       "      <th>4</th>\n",
       "      <td>3</td>\n",
       "      <td>female</td>\n",
       "      <td>22.0</td>\n",
       "      <td>1</td>\n",
       "      <td>1</td>\n",
       "      <td>12.2875</td>\n",
       "      <td>S</td>\n",
       "    </tr>\n",
       "  </tbody>\n",
       "</table>\n",
       "</div>"
      ],
      "text/plain": [
       "   Pclass     Sex   Age  SibSp  Parch     Fare Embarked\n",
       "0       3    male  34.5      0      0   7.8292        Q\n",
       "1       3  female  47.0      1      0   7.0000        S\n",
       "2       2    male  62.0      0      0   9.6875        Q\n",
       "3       3    male  27.0      0      0   8.6625        S\n",
       "4       3  female  22.0      1      1  12.2875        S"
      ]
     },
     "execution_count": 12,
     "metadata": {},
     "output_type": "execute_result"
    }
   ],
   "source": [
    "xii = test_data.iloc[:,[1,3,4,5,6,8,10]]\n",
    "xii.head()"
   ]
  },
  {
   "cell_type": "code",
   "execution_count": 13,
   "id": "3417650a",
   "metadata": {
    "execution": {
     "iopub.execute_input": "2022-09-07T05:49:23.000100Z",
     "iopub.status.busy": "2022-09-07T05:49:22.999376Z",
     "iopub.status.idle": "2022-09-07T05:49:23.025511Z",
     "shell.execute_reply": "2022-09-07T05:49:23.024363Z"
    },
    "papermill": {
     "duration": 0.05379,
     "end_time": "2022-09-07T05:49:23.029748",
     "exception": false,
     "start_time": "2022-09-07T05:49:22.975958",
     "status": "completed"
    },
    "tags": []
   },
   "outputs": [
    {
     "name": "stdout",
     "output_type": "stream",
     "text": [
      "<class 'pandas.core.frame.DataFrame'>\n",
      "RangeIndex: 418 entries, 0 to 417\n",
      "Data columns (total 7 columns):\n",
      " #   Column    Non-Null Count  Dtype  \n",
      "---  ------    --------------  -----  \n",
      " 0   Pclass    418 non-null    int64  \n",
      " 1   Sex       418 non-null    object \n",
      " 2   Age       418 non-null    float64\n",
      " 3   SibSp     418 non-null    int64  \n",
      " 4   Parch     418 non-null    int64  \n",
      " 5   Fare      418 non-null    float64\n",
      " 6   Embarked  418 non-null    object \n",
      "dtypes: float64(2), int64(3), object(2)\n",
      "memory usage: 23.0+ KB\n"
     ]
    },
    {
     "name": "stderr",
     "output_type": "stream",
     "text": [
      "/opt/conda/lib/python3.7/site-packages/pandas/core/generic.py:6392: SettingWithCopyWarning: \n",
      "A value is trying to be set on a copy of a slice from a DataFrame\n",
      "\n",
      "See the caveats in the documentation: https://pandas.pydata.org/pandas-docs/stable/user_guide/indexing.html#returning-a-view-versus-a-copy\n",
      "  return self._update_inplace(result)\n",
      "/opt/conda/lib/python3.7/site-packages/pandas/core/frame.py:5182: SettingWithCopyWarning: \n",
      "A value is trying to be set on a copy of a slice from a DataFrame\n",
      "\n",
      "See the caveats in the documentation: https://pandas.pydata.org/pandas-docs/stable/user_guide/indexing.html#returning-a-view-versus-a-copy\n",
      "  downcast=downcast,\n"
     ]
    }
   ],
   "source": [
    "# now impute the 'Age' column\n",
    "xii['Age'].fillna(xii['Age'].mean(), inplace=True)\n",
    "\n",
    "# now ditch the two rows from 'Embarked'\n",
    "xii.fillna(0,inplace=True)\n",
    "\n",
    "xii.info()"
   ]
  },
  {
   "cell_type": "code",
   "execution_count": 14,
   "id": "ca86e685",
   "metadata": {
    "execution": {
     "iopub.execute_input": "2022-09-07T05:49:23.078224Z",
     "iopub.status.busy": "2022-09-07T05:49:23.077138Z",
     "iopub.status.idle": "2022-09-07T05:49:23.094274Z",
     "shell.execute_reply": "2022-09-07T05:49:23.093407Z"
    },
    "papermill": {
     "duration": 0.045869,
     "end_time": "2022-09-07T05:49:23.099405",
     "exception": false,
     "start_time": "2022-09-07T05:49:23.053536",
     "status": "completed"
    },
    "tags": []
   },
   "outputs": [
    {
     "name": "stdout",
     "output_type": "stream",
     "text": [
      "<class 'pandas.core.frame.DataFrame'>\n",
      "RangeIndex: 418 entries, 0 to 417\n",
      "Data columns (total 7 columns):\n",
      " #   Column    Non-Null Count  Dtype  \n",
      "---  ------    --------------  -----  \n",
      " 0   Pclass    418 non-null    int64  \n",
      " 1   Sex       418 non-null    int64  \n",
      " 2   Age       418 non-null    float64\n",
      " 3   SibSp     418 non-null    int64  \n",
      " 4   Parch     418 non-null    int64  \n",
      " 5   Fare      418 non-null    float64\n",
      " 6   Embarked  418 non-null    int64  \n",
      "dtypes: float64(2), int64(5)\n",
      "memory usage: 23.0 KB\n"
     ]
    },
    {
     "name": "stderr",
     "output_type": "stream",
     "text": [
      "/opt/conda/lib/python3.7/site-packages/pandas/core/generic.py:6619: SettingWithCopyWarning: \n",
      "A value is trying to be set on a copy of a slice from a DataFrame\n",
      "\n",
      "See the caveats in the documentation: https://pandas.pydata.org/pandas-docs/stable/user_guide/indexing.html#returning-a-view-versus-a-copy\n",
      "  return self._update_inplace(result)\n"
     ]
    }
   ],
   "source": [
    "# recode the sex column\n",
    "xii['Sex'].replace(('male', 'female'), (0, 1), inplace=True)\n",
    "\n",
    "# recode the embarked column\n",
    "xii['Embarked'].replace(('Q', 'S', 'C'), (0, 1, 2), inplace=True)\n",
    "\n",
    "xii.info()"
   ]
  },
  {
   "cell_type": "code",
   "execution_count": 15,
   "id": "0365106e",
   "metadata": {
    "execution": {
     "iopub.execute_input": "2022-09-07T05:49:23.147864Z",
     "iopub.status.busy": "2022-09-07T05:49:23.147436Z",
     "iopub.status.idle": "2022-09-07T05:49:23.153451Z",
     "shell.execute_reply": "2022-09-07T05:49:23.152638Z"
    },
    "papermill": {
     "duration": 0.032982,
     "end_time": "2022-09-07T05:49:23.156068",
     "exception": false,
     "start_time": "2022-09-07T05:49:23.123086",
     "status": "completed"
    },
    "tags": []
   },
   "outputs": [
    {
     "name": "stdout",
     "output_type": "stream",
     "text": [
      "(418, 7)\n"
     ]
    }
   ],
   "source": [
    "# split into X and Y\n",
    "Xt = xii\n",
    "print(Xt.shape)\n",
    "\n",
    "# convert to numpy arrays\n",
    "Xt = np.array(Xt)"
   ]
  },
  {
   "cell_type": "code",
   "execution_count": 16,
   "id": "a866bd5f",
   "metadata": {
    "execution": {
     "iopub.execute_input": "2022-09-07T05:49:23.202742Z",
     "iopub.status.busy": "2022-09-07T05:49:23.201941Z",
     "iopub.status.idle": "2022-09-07T05:49:23.207511Z",
     "shell.execute_reply": "2022-09-07T05:49:23.206587Z"
    },
    "papermill": {
     "duration": 0.030999,
     "end_time": "2022-09-07T05:49:23.209538",
     "exception": false,
     "start_time": "2022-09-07T05:49:23.178539",
     "status": "completed"
    },
    "tags": []
   },
   "outputs": [],
   "source": [
    "x_test= st_x.fit_transform(Xt)   "
   ]
  },
  {
   "cell_type": "code",
   "execution_count": 17,
   "id": "5c668d1b",
   "metadata": {
    "execution": {
     "iopub.execute_input": "2022-09-07T05:49:23.257570Z",
     "iopub.status.busy": "2022-09-07T05:49:23.256623Z",
     "iopub.status.idle": "2022-09-07T05:49:33.051907Z",
     "shell.execute_reply": "2022-09-07T05:49:33.050756Z"
    },
    "papermill": {
     "duration": 9.822061,
     "end_time": "2022-09-07T05:49:33.054609",
     "exception": false,
     "start_time": "2022-09-07T05:49:23.232548",
     "status": "completed"
    },
    "tags": []
   },
   "outputs": [],
   "source": [
    "y_pred = np.round(model.predict(x_test),0)"
   ]
  },
  {
   "cell_type": "code",
   "execution_count": 18,
   "id": "39caca97",
   "metadata": {
    "execution": {
     "iopub.execute_input": "2022-09-07T05:49:33.101593Z",
     "iopub.status.busy": "2022-09-07T05:49:33.101192Z",
     "iopub.status.idle": "2022-09-07T05:49:33.108472Z",
     "shell.execute_reply": "2022-09-07T05:49:33.107312Z"
    },
    "papermill": {
     "duration": 0.033235,
     "end_time": "2022-09-07T05:49:33.110634",
     "exception": false,
     "start_time": "2022-09-07T05:49:33.077399",
     "status": "completed"
    },
    "tags": []
   },
   "outputs": [
    {
     "data": {
      "text/plain": [
       "(418, 1)"
      ]
     },
     "execution_count": 18,
     "metadata": {},
     "output_type": "execute_result"
    }
   ],
   "source": [
    "np.shape(y_pred)"
   ]
  },
  {
   "cell_type": "code",
   "execution_count": 19,
   "id": "239b0a58",
   "metadata": {
    "execution": {
     "iopub.execute_input": "2022-09-07T05:49:33.157556Z",
     "iopub.status.busy": "2022-09-07T05:49:33.157165Z",
     "iopub.status.idle": "2022-09-07T05:49:33.162070Z",
     "shell.execute_reply": "2022-09-07T05:49:33.161028Z"
    },
    "papermill": {
     "duration": 0.030567,
     "end_time": "2022-09-07T05:49:33.164196",
     "exception": false,
     "start_time": "2022-09-07T05:49:33.133629",
     "status": "completed"
    },
    "tags": []
   },
   "outputs": [],
   "source": [
    "y_pred1 = np.reshape(y_pred,418)"
   ]
  },
  {
   "cell_type": "code",
   "execution_count": 20,
   "id": "efcad8fa",
   "metadata": {
    "execution": {
     "iopub.execute_input": "2022-09-07T05:49:33.210797Z",
     "iopub.status.busy": "2022-09-07T05:49:33.210378Z",
     "iopub.status.idle": "2022-09-07T05:49:33.215014Z",
     "shell.execute_reply": "2022-09-07T05:49:33.213779Z"
    },
    "papermill": {
     "duration": 0.030647,
     "end_time": "2022-09-07T05:49:33.217186",
     "exception": false,
     "start_time": "2022-09-07T05:49:33.186539",
     "status": "completed"
    },
    "tags": []
   },
   "outputs": [],
   "source": [
    "y_pred1 =y_pred1.astype(int)"
   ]
  },
  {
   "cell_type": "code",
   "execution_count": 21,
   "id": "ba3cdbdd",
   "metadata": {
    "execution": {
     "iopub.execute_input": "2022-09-07T05:49:33.263822Z",
     "iopub.status.busy": "2022-09-07T05:49:33.263432Z",
     "iopub.status.idle": "2022-09-07T05:49:33.271357Z",
     "shell.execute_reply": "2022-09-07T05:49:33.270153Z"
    },
    "papermill": {
     "duration": 0.034045,
     "end_time": "2022-09-07T05:49:33.273587",
     "exception": false,
     "start_time": "2022-09-07T05:49:33.239542",
     "status": "completed"
    },
    "tags": []
   },
   "outputs": [
    {
     "data": {
      "text/plain": [
       "array([0, 0, 0, 0, 1, 0, 1, 0, 0, 0, 0, 0, 1, 0, 1, 1, 0, 0, 0, 0, 0, 0,\n",
       "       1, 1, 1, 0, 1, 0, 0, 0, 0, 0, 0, 0, 1, 0, 0, 0, 0, 0, 0, 0, 0, 1,\n",
       "       1, 0, 0, 0, 1, 0, 1, 0, 1, 1, 0, 0, 0, 0, 0, 1, 0, 0, 0, 1, 0, 1,\n",
       "       1, 0, 0, 1, 1, 0, 0, 0, 1, 0, 0, 1, 0, 1, 1, 0, 0, 0, 0, 0, 1, 0,\n",
       "       1, 1, 0, 0, 1, 0, 0, 0, 1, 0, 0, 0, 1, 0, 0, 0, 1, 0, 0, 0, 0, 0,\n",
       "       0, 1, 1, 1, 1, 0, 0, 1, 0, 1, 1, 0, 1, 0, 0, 1, 0, 0, 0, 0, 0, 0,\n",
       "       0, 0, 0, 0, 0, 0, 0, 0, 0, 1, 0, 0, 0, 0, 0, 0, 0, 0, 1, 0, 0, 0,\n",
       "       0, 0, 1, 0, 0, 1, 1, 1, 1, 0, 0, 0, 0, 0, 1, 0, 0, 0, 0, 0, 0, 1,\n",
       "       1, 0, 1, 1, 0, 1, 1, 0, 1, 0, 1, 0, 0, 0, 0, 0, 0, 0, 1, 0, 1, 0,\n",
       "       0, 0, 1, 1, 0, 1, 0, 0, 1, 0, 1, 0, 0, 0, 0, 1, 0, 0, 1, 0, 1, 0,\n",
       "       1, 0, 1, 0, 1, 1, 0, 1, 0, 0, 0, 1, 0, 0, 1, 0, 0, 0, 1, 1, 1, 1,\n",
       "       0, 0, 0, 0, 1, 0, 1, 0, 1, 0, 1, 0, 0, 0, 0, 0, 1, 0, 0, 0, 1, 1,\n",
       "       0, 0, 0, 0, 0, 0, 0, 0, 1, 1, 0, 1, 0, 0, 0, 0, 0, 1, 1, 1, 1, 0,\n",
       "       0, 1, 0, 0, 0, 1, 0, 0, 0, 0, 1, 0, 0, 0, 0, 0, 0, 0, 1, 1, 0, 0,\n",
       "       0, 0, 0, 0, 0, 1, 1, 1, 0, 0, 0, 0, 0, 0, 0, 0, 1, 0, 1, 0, 0, 0,\n",
       "       1, 0, 0, 1, 0, 0, 0, 0, 0, 0, 0, 0, 0, 1, 0, 0, 0, 1, 0, 1, 1, 0,\n",
       "       0, 0, 1, 0, 1, 0, 0, 0, 0, 1, 1, 0, 1, 0, 0, 1, 1, 0, 0, 1, 0, 0,\n",
       "       1, 1, 0, 0, 0, 0, 0, 0, 0, 0, 0, 1, 0, 0, 0, 0, 1, 1, 0, 0, 0, 1,\n",
       "       0, 1, 0, 0, 1, 0, 1, 1, 1, 0, 0, 0, 1, 1, 1, 1, 0, 0, 1, 0, 0, 0])"
      ]
     },
     "execution_count": 21,
     "metadata": {},
     "output_type": "execute_result"
    }
   ],
   "source": [
    "y_pred1"
   ]
  },
  {
   "cell_type": "code",
   "execution_count": 22,
   "id": "4b5d1a80",
   "metadata": {
    "execution": {
     "iopub.execute_input": "2022-09-07T05:49:33.321430Z",
     "iopub.status.busy": "2022-09-07T05:49:33.320270Z",
     "iopub.status.idle": "2022-09-07T05:49:33.330474Z",
     "shell.execute_reply": "2022-09-07T05:49:33.329428Z"
    },
    "papermill": {
     "duration": 0.037188,
     "end_time": "2022-09-07T05:49:33.333447",
     "exception": false,
     "start_time": "2022-09-07T05:49:33.296259",
     "status": "completed"
    },
    "tags": []
   },
   "outputs": [
    {
     "name": "stdout",
     "output_type": "stream",
     "text": [
      "Your submission was successfully saved!\n"
     ]
    }
   ],
   "source": [
    "output = pd.DataFrame({'PassengerId': test_data.PassengerId, 'Survived': y_pred1})\n",
    "output.to_csv('submission.csv', index=False)\n",
    "print(\"Your submission was successfully saved!\")"
   ]
  },
  {
   "cell_type": "code",
   "execution_count": 23,
   "id": "3b4c68b8",
   "metadata": {
    "execution": {
     "iopub.execute_input": "2022-09-07T05:49:33.382253Z",
     "iopub.status.busy": "2022-09-07T05:49:33.381032Z",
     "iopub.status.idle": "2022-09-07T05:49:33.395503Z",
     "shell.execute_reply": "2022-09-07T05:49:33.394394Z"
    },
    "papermill": {
     "duration": 0.040892,
     "end_time": "2022-09-07T05:49:33.397776",
     "exception": false,
     "start_time": "2022-09-07T05:49:33.356884",
     "status": "completed"
    },
    "tags": []
   },
   "outputs": [
    {
     "data": {
      "text/html": [
       "<div>\n",
       "<style scoped>\n",
       "    .dataframe tbody tr th:only-of-type {\n",
       "        vertical-align: middle;\n",
       "    }\n",
       "\n",
       "    .dataframe tbody tr th {\n",
       "        vertical-align: top;\n",
       "    }\n",
       "\n",
       "    .dataframe thead th {\n",
       "        text-align: right;\n",
       "    }\n",
       "</style>\n",
       "<table border=\"1\" class=\"dataframe\">\n",
       "  <thead>\n",
       "    <tr style=\"text-align: right;\">\n",
       "      <th></th>\n",
       "      <th>PassengerId</th>\n",
       "      <th>Survived</th>\n",
       "    </tr>\n",
       "  </thead>\n",
       "  <tbody>\n",
       "    <tr>\n",
       "      <th>0</th>\n",
       "      <td>892</td>\n",
       "      <td>0</td>\n",
       "    </tr>\n",
       "    <tr>\n",
       "      <th>1</th>\n",
       "      <td>893</td>\n",
       "      <td>0</td>\n",
       "    </tr>\n",
       "    <tr>\n",
       "      <th>2</th>\n",
       "      <td>894</td>\n",
       "      <td>0</td>\n",
       "    </tr>\n",
       "    <tr>\n",
       "      <th>3</th>\n",
       "      <td>895</td>\n",
       "      <td>0</td>\n",
       "    </tr>\n",
       "    <tr>\n",
       "      <th>4</th>\n",
       "      <td>896</td>\n",
       "      <td>1</td>\n",
       "    </tr>\n",
       "    <tr>\n",
       "      <th>...</th>\n",
       "      <td>...</td>\n",
       "      <td>...</td>\n",
       "    </tr>\n",
       "    <tr>\n",
       "      <th>413</th>\n",
       "      <td>1305</td>\n",
       "      <td>0</td>\n",
       "    </tr>\n",
       "    <tr>\n",
       "      <th>414</th>\n",
       "      <td>1306</td>\n",
       "      <td>1</td>\n",
       "    </tr>\n",
       "    <tr>\n",
       "      <th>415</th>\n",
       "      <td>1307</td>\n",
       "      <td>0</td>\n",
       "    </tr>\n",
       "    <tr>\n",
       "      <th>416</th>\n",
       "      <td>1308</td>\n",
       "      <td>0</td>\n",
       "    </tr>\n",
       "    <tr>\n",
       "      <th>417</th>\n",
       "      <td>1309</td>\n",
       "      <td>0</td>\n",
       "    </tr>\n",
       "  </tbody>\n",
       "</table>\n",
       "<p>418 rows × 2 columns</p>\n",
       "</div>"
      ],
      "text/plain": [
       "     PassengerId  Survived\n",
       "0            892         0\n",
       "1            893         0\n",
       "2            894         0\n",
       "3            895         0\n",
       "4            896         1\n",
       "..           ...       ...\n",
       "413         1305         0\n",
       "414         1306         1\n",
       "415         1307         0\n",
       "416         1308         0\n",
       "417         1309         0\n",
       "\n",
       "[418 rows x 2 columns]"
      ]
     },
     "execution_count": 23,
     "metadata": {},
     "output_type": "execute_result"
    }
   ],
   "source": [
    "pd.read_csv('submission.csv')"
   ]
  },
  {
   "cell_type": "code",
   "execution_count": null,
   "id": "b29587b7",
   "metadata": {
    "papermill": {
     "duration": 0.022864,
     "end_time": "2022-09-07T05:49:33.443434",
     "exception": false,
     "start_time": "2022-09-07T05:49:33.420570",
     "status": "completed"
    },
    "tags": []
   },
   "outputs": [],
   "source": []
  }
 ],
 "metadata": {
  "kernelspec": {
   "display_name": "Python 3",
   "language": "python",
   "name": "python3"
  },
  "language_info": {
   "codemirror_mode": {
    "name": "ipython",
    "version": 3
   },
   "file_extension": ".py",
   "mimetype": "text/x-python",
   "name": "python",
   "nbconvert_exporter": "python",
   "pygments_lexer": "ipython3",
   "version": "3.7.12"
  },
  "papermill": {
   "default_parameters": {},
   "duration": 43.200594,
   "end_time": "2022-09-07T05:49:36.381897",
   "environment_variables": {},
   "exception": null,
   "input_path": "__notebook__.ipynb",
   "output_path": "__notebook__.ipynb",
   "parameters": {},
   "start_time": "2022-09-07T05:48:53.181303",
   "version": "2.3.4"
  }
 },
 "nbformat": 4,
 "nbformat_minor": 5
}
